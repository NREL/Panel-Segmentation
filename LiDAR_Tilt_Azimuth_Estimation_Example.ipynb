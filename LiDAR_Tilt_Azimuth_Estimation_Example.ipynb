{
 "cells": [
  {
   "cell_type": "code",
   "execution_count": null,
   "id": "9bcf972a",
   "metadata": {},
   "outputs": [],
   "source": [
    "from panel_segmentation.lidar import pcd_data, plane_segmentation, usgs_lidar_api\n",
    "from shapely.wkt import loads\n",
    "import os\n",
    "import open3d as o3d\n",
    "import plotly.graph_objects as go\n",
    "import numpy as np\n",
    "import pandas as pd"
   ]
  },
  {
   "cell_type": "markdown",
   "id": "7ed5818c",
   "metadata": {},
   "source": [
    "Get a list of shapely polygons to run LiDAR pipeline. Polygons can be generated from inferences"
   ]
  },
  {
   "cell_type": "code",
   "execution_count": 3,
   "id": "9a1a48dd",
   "metadata": {},
   "outputs": [
    {
     "name": "stdout",
     "output_type": "stream",
     "text": [
      "c:\\Users\\Quyen\\Documents\\Panel-Segmentation\\panel_segmentation\\examples\\lidar_examples\\cropped_USGS_LPC_TX_Central_B1_2017_stratmap17_50cm_3097513c1_LAS_2019.laz\n"
     ]
    }
   ],
   "source": [
    "# Shapely polygon of a panel\n",
    "shapely_polygon = loads(\"\"\"POLYGON ((\n",
    "                        -97.74106315632842 30.14782268767431,\n",
    "                        -97.74096919534045 30.1478079931521,\n",
    "                        -97.74096768230025 30.1478196557987,\n",
    "                        -97.74099649481839 30.14782495927133,\n",
    "                        -97.74099415225778 30.1478379364854,\n",
    "                        -97.74103533818115 30.14784324186061,\n",
    "                        -97.74103979247948 30.14783185545246,\n",
    "                        -97.74105752041777 30.14783384726395,\n",
    "                        -97.74106315632842 30.14782268767431))\"\"\")\n",
    "# Get.laz file that contains the shapely polygon coordinates\n",
    "laz_file_path = os.path.join(os.getcwd(), r\"panel_segmentation\\examples\\lidar_examples\\cropped_USGS_LPC_TX_Central_B1_2017_stratmap17_50cm_3097513c1_LAS_2019.laz\")\n",
    "print(laz_file_path)\n"
   ]
  },
  {
   "cell_type": "markdown",
   "id": "ca5979ef",
   "metadata": {},
   "source": [
    "Visualizing point cloud data can be easily done with [o3d.visualization.draw_geometries()](https://www.open3d.org/docs/latest/python_api/open3d.visualization.draw_geometries.html) function. However, this opens a new browser with the displayed figure. To keep the figures inline with the Juypter notebook and avoid pop-up browsers, the following example will use plotly to plot the pcd data interactively."
   ]
  },
  {
   "cell_type": "code",
   "execution_count": null,
   "id": "430ee12b",
   "metadata": {},
   "outputs": [
    {
     "data": {
      "application/vnd.plotly.v1+json": {
       "config": {
        "plotlyServerURL": "https://plot.ly"
       },
       "data": [
        {
         "mode": "markers",
         "type": "scatter3d",
         "x": {
          "bdata": "AAAAaJafjUEAAABQlZ+NQQAAAGCdn41BAAAAUJyfjUEAAAAgm5+NQQAAAAian41BAAAA+JifjUEAAADgl5+NQQAAAKCcn41BAAAAiJufjUEAAAB4mp+NQQAAAGCZn41BAAAAOJifjUEAAAAQl5+NQQAAAPiVn41BAAAAyJ6fjUEAAAB4nJ+NQQAAAGCbn41BAAAA+KCfjUEAAADYn5+NQQAAACCpn41BAAAACKifjUEAAADgpp+NQQAAAMiln41BAAAAuKSfjUEAAACgo5+NQQAAAICin41BAAAAUKGfjUEAAAA4oJ+NQQAAABifn41BAAAAAJ6fjUEAAADonJ+NQQAAANibn41BAAAAmKefjUEAAACIpp+NQQAAAHCln41BAAAASKSfjUEAAAAgo5+NQQAAABCin41BAAAA4KCfjUEAAADQn5+NQQAAAMCen41BAAAAqJ2fjUEAAABwnJ+NQQAAAFibn41BAAAAQJqfjUEAAADAqp+NQQAAALCpn41BAAAAiKifjUEAAABgp5+NQQAAAEimn41BAAAAKKWfjUEAAAAQpJ+NQQAAAACjn41BAAAA4KGfjUEAAADAoJ+NQQAAAJifn41BAAAAgJ6fjUEAAABQnZ+NQQAAAEicn41BAAAAqKKfjUEAAACQoZ+NQQAAAIign41BAAAAuKyfjUEAAACIq5+NQQAAAHiqn41BAAAAYKmfjUEAAADopJ+NQQAAAMCjn41BAAAAWJ+fjUEAAADgrZ+NQQAAALCsn41BAAAAoJSfjUEAAADAlp+NQQAAAAiYn41BAAAAWJmfjUEAAABgmJ+NQQAAANCZn41BAAAAEJufjUEAAAB4nJ+NQQAAANiZn41BAAAAEJufjUEAAABonJ+NQQAAALCdn41BAAAAwJ+fjUEAAABgmp+NQQAAALCbn41BAAAAEJ2fjUEAAAB4np+NQQAAAEicn41BAAAAmJ2fjUEAAAD4np+NQQAAAECgn41BAAAAkKGfjUEAAADYop+NQQAAAMCdn41BAAAAEJ+fjUEAAABgoJ+NQQAAAMChn41BAAAAIKOfjUEAAABwpJ+NQQAAANCln41BAAAAmKCfjUEAAADgoZ+NQQAAAECjn41BAAAAmKSfjUEAAADYpZ+NQQAAACinn41BAAAAiKifjUEAAADQqp+NQQAAABCsn41BAAAAwKyfjUE=",
          "dtype": "f8"
         },
         "y": {
          "bdata": "AAAAdxTis0EAAACOFOKzQQAAAEEU4rNBAAAAWBTis0EAAAByFOKzQQAAAIoU4rNBAAAAoRTis0EAAAC5FOKzQQAAACYU4rNBAAAAPRTis0EAAABVFOKzQQAAAG0U4rNBAAAAhhTis0EAAACfFOKzQQAAALcU4rNBAAAAahTis0EAAACcFOKzQQAAALUU4rNBAAAAOhTis0EAAABTFOKzQQAAAP0T4rNBAAAAFhTis0EAAAAvFOKzQQAAAEcU4rNBAAAAXhTis0EAAAB2FOKzQQAAAI8U4rNBAAAAqRTis0EAAADBFOKzQQAAANkU4rNBAAAA8RTis0EAAAAJFeKzQQAAACEV4rNBAAAA9RPis0EAAAAMFOKzQQAAACQU4rNBAAAAPRTis0EAAABXFOKzQQAAAG4U4rNBAAAAiBTis0EAAACgFOKzQQAAALcU4rNBAAAAzxTis0EAAADpFOKzQQAAAAEV4rNBAAAAGRXis0EAAAD1E+KzQQAAAAwU4rNBAAAAJhTis0EAAAA/FOKzQQAAAFcU4rNBAAAAcBTis0EAAACIFOKzQQAAAJ8U4rNBAAAAtxTis0EAAADQFOKzQQAAAOkU4rNBAAAAARXis0EAAAAbFeKzQQAAADIV4rNBAAAA1xTis0EAAADvFOKzQQAAAAYV4rNBAAAA+xPis0EAAAAVFOKzQQAAACwU4rNBAAAARBTis0EAAACmFOKzQQAAAL8U4rNBAAAAHxXis0EAAAAoFOKzQQAAAEIU4rNBAAAAjRTis0EAAACjFOKzQQAAAHkU4rNBAAAAThTis0EAAACsFOKzQQAAAH4U4rNBAAAAVRTis0EAAAAnFOKzQQAAAMAU4rNBAAAAmRTis0EAAABtFOKzQQAAAEQU4rNBAAAAXRTis0EAAAALFeKzQQAAAOEU4rNBAAAAtBTis0EAAACGFOKzQQAAABIV4rNBAAAA6BTis0EAAAC7FOKzQQAAAJEU4rNBAAAAaBTis0EAAAA+FOKzQQAAABIV4rNBAAAA6BTis0EAAAC+FOKzQQAAAJEU4rNBAAAAZRTis0EAAAA6FOKzQQAAAA4U4rNBAAAA/hTis0EAAADVFOKzQQAAAKgU4rNBAAAAfRTis0EAAABUFOKzQQAAACoU4rNBAAAA/RPis0EAAAAfFOKzQQAAAPcT4rNBAAAAMRTis0E=",
          "dtype": "f8"
         },
         "z": {
          "bdata": "AAAAAIDv0UAAAAAAwPHRQAAAAADA7dFAAAAAAIDv0UAAAAAAgPHRQAAAAABA89FAAAAAAAD10UAAAAAAgPbRQAAAAABA6tFAAAAAAADs0UAAAAAAAO7RQAAAAAAA8NFAAAAAAMDx0UAAAAAAwPPRQAAAAABA9dFAAAAAAADz0UAAAAAAwPbRQAAAAACA+NFAAAAAAIDv0UAAAAAAwPDRQAAAAACA7dFAAAAAAADv0UAAAAAAAPHRQAAAAADA8tFAAAAAAID00UAAAAAAQPbRQAAAAADA+NFAAAAAAMD60UAAAAAAAPzRQAAAAAAA/tFAAAAAAMD/0UAAAAAAwAHSQAAAAACAA9JAAAAAAIDr0UAAAAAAgO3RQAAAAABA79FAAAAAAEDx0UAAAAAAAPPRQAAAAADA9NFAAAAAAMD20UAAAAAAwPjRQAAAAACA+tFAAAAAAAD80UAAAAAAQP7RQAAAAABAANJAAAAAAMAB0kAAAAAAAO7RQAAAAACA79FAAAAAAEDx0UAAAAAAAPPRQAAAAABA9dFAAAAAAAD30UAAAAAAgPjRQAAAAABA+tFAAAAAAID80UAAAAAAAP7RQAAAAACAANJAAAAAAAAC0kAAAAAAwAPSQAAAAADABdJAAAAAAAAA0kAAAAAAgAHSQAAAAACAA9JAAAAAAIDv0UAAAAAAQPHRQAAAAABA89FAAAAAAAD10UAAAAAAQPzRQAAAAAAA/tFAAAAAAEAF0kAAAAAAwPTRQAAAAACA9tFAAAAAAADx0UAAAAAAwPTRQAAAAABA8dFAAAAAAMDt0UAAAAAAwPbRQAAAAACA8tFAAAAAAEDv0UAAAAAAQOvRQAAAAABA+dFAAAAAAAD30UAAAAAAAPLRQAAAAADA7tFAAAAAAMDy0UAAAAAAwAHSQAAAAADA/dFAAAAAAMD50UAAAAAAQPbRQAAAAAAAA9JAAAAAAED/0UAAAAAAgPvRQAAAAADA99FAAAAAAED00UAAAAAAAPHRQAAAAAAABNJAAAAAAAAB0kAAAAAAwPzRQAAAAACA+NFAAAAAAED10UAAAAAAAPLRQAAAAADA7dFAAAAAAEAD0kAAAAAAAADSQAAAAAAA/NFAAAAAAID40UAAAAAAAPXRQAAAAAAA8tFAAAAAAEDu0UAAAAAAgPLRQAAAAACA79FAAAAAAID10UA=",
          "dtype": "f8"
         }
        }
       ],
       "layout": {
        "height": 1000,
        "scene": {
         "camera": {
          "eye": {
           "x": 1.5,
           "y": 1.5,
           "z": 1.5
          }
         },
         "xaxis": {
          "title": {
           "text": "X (meters)"
          }
         },
         "yaxis": {
          "title": {
           "text": "Y (meters)"
          }
         },
         "zaxis": {
          "title": {
           "text": "Z (meters)"
          }
         }
        },
        "template": {
         "data": {
          "bar": [
           {
            "error_x": {
             "color": "#2a3f5f"
            },
            "error_y": {
             "color": "#2a3f5f"
            },
            "marker": {
             "line": {
              "color": "#E5ECF6",
              "width": 0.5
             },
             "pattern": {
              "fillmode": "overlay",
              "size": 10,
              "solidity": 0.2
             }
            },
            "type": "bar"
           }
          ],
          "barpolar": [
           {
            "marker": {
             "line": {
              "color": "#E5ECF6",
              "width": 0.5
             },
             "pattern": {
              "fillmode": "overlay",
              "size": 10,
              "solidity": 0.2
             }
            },
            "type": "barpolar"
           }
          ],
          "carpet": [
           {
            "aaxis": {
             "endlinecolor": "#2a3f5f",
             "gridcolor": "white",
             "linecolor": "white",
             "minorgridcolor": "white",
             "startlinecolor": "#2a3f5f"
            },
            "baxis": {
             "endlinecolor": "#2a3f5f",
             "gridcolor": "white",
             "linecolor": "white",
             "minorgridcolor": "white",
             "startlinecolor": "#2a3f5f"
            },
            "type": "carpet"
           }
          ],
          "choropleth": [
           {
            "colorbar": {
             "outlinewidth": 0,
             "ticks": ""
            },
            "type": "choropleth"
           }
          ],
          "contour": [
           {
            "colorbar": {
             "outlinewidth": 0,
             "ticks": ""
            },
            "colorscale": [
             [
              0,
              "#0d0887"
             ],
             [
              0.1111111111111111,
              "#46039f"
             ],
             [
              0.2222222222222222,
              "#7201a8"
             ],
             [
              0.3333333333333333,
              "#9c179e"
             ],
             [
              0.4444444444444444,
              "#bd3786"
             ],
             [
              0.5555555555555556,
              "#d8576b"
             ],
             [
              0.6666666666666666,
              "#ed7953"
             ],
             [
              0.7777777777777778,
              "#fb9f3a"
             ],
             [
              0.8888888888888888,
              "#fdca26"
             ],
             [
              1,
              "#f0f921"
             ]
            ],
            "type": "contour"
           }
          ],
          "contourcarpet": [
           {
            "colorbar": {
             "outlinewidth": 0,
             "ticks": ""
            },
            "type": "contourcarpet"
           }
          ],
          "heatmap": [
           {
            "colorbar": {
             "outlinewidth": 0,
             "ticks": ""
            },
            "colorscale": [
             [
              0,
              "#0d0887"
             ],
             [
              0.1111111111111111,
              "#46039f"
             ],
             [
              0.2222222222222222,
              "#7201a8"
             ],
             [
              0.3333333333333333,
              "#9c179e"
             ],
             [
              0.4444444444444444,
              "#bd3786"
             ],
             [
              0.5555555555555556,
              "#d8576b"
             ],
             [
              0.6666666666666666,
              "#ed7953"
             ],
             [
              0.7777777777777778,
              "#fb9f3a"
             ],
             [
              0.8888888888888888,
              "#fdca26"
             ],
             [
              1,
              "#f0f921"
             ]
            ],
            "type": "heatmap"
           }
          ],
          "histogram": [
           {
            "marker": {
             "pattern": {
              "fillmode": "overlay",
              "size": 10,
              "solidity": 0.2
             }
            },
            "type": "histogram"
           }
          ],
          "histogram2d": [
           {
            "colorbar": {
             "outlinewidth": 0,
             "ticks": ""
            },
            "colorscale": [
             [
              0,
              "#0d0887"
             ],
             [
              0.1111111111111111,
              "#46039f"
             ],
             [
              0.2222222222222222,
              "#7201a8"
             ],
             [
              0.3333333333333333,
              "#9c179e"
             ],
             [
              0.4444444444444444,
              "#bd3786"
             ],
             [
              0.5555555555555556,
              "#d8576b"
             ],
             [
              0.6666666666666666,
              "#ed7953"
             ],
             [
              0.7777777777777778,
              "#fb9f3a"
             ],
             [
              0.8888888888888888,
              "#fdca26"
             ],
             [
              1,
              "#f0f921"
             ]
            ],
            "type": "histogram2d"
           }
          ],
          "histogram2dcontour": [
           {
            "colorbar": {
             "outlinewidth": 0,
             "ticks": ""
            },
            "colorscale": [
             [
              0,
              "#0d0887"
             ],
             [
              0.1111111111111111,
              "#46039f"
             ],
             [
              0.2222222222222222,
              "#7201a8"
             ],
             [
              0.3333333333333333,
              "#9c179e"
             ],
             [
              0.4444444444444444,
              "#bd3786"
             ],
             [
              0.5555555555555556,
              "#d8576b"
             ],
             [
              0.6666666666666666,
              "#ed7953"
             ],
             [
              0.7777777777777778,
              "#fb9f3a"
             ],
             [
              0.8888888888888888,
              "#fdca26"
             ],
             [
              1,
              "#f0f921"
             ]
            ],
            "type": "histogram2dcontour"
           }
          ],
          "mesh3d": [
           {
            "colorbar": {
             "outlinewidth": 0,
             "ticks": ""
            },
            "type": "mesh3d"
           }
          ],
          "parcoords": [
           {
            "line": {
             "colorbar": {
              "outlinewidth": 0,
              "ticks": ""
             }
            },
            "type": "parcoords"
           }
          ],
          "pie": [
           {
            "automargin": true,
            "type": "pie"
           }
          ],
          "scatter": [
           {
            "fillpattern": {
             "fillmode": "overlay",
             "size": 10,
             "solidity": 0.2
            },
            "type": "scatter"
           }
          ],
          "scatter3d": [
           {
            "line": {
             "colorbar": {
              "outlinewidth": 0,
              "ticks": ""
             }
            },
            "marker": {
             "colorbar": {
              "outlinewidth": 0,
              "ticks": ""
             }
            },
            "type": "scatter3d"
           }
          ],
          "scattercarpet": [
           {
            "marker": {
             "colorbar": {
              "outlinewidth": 0,
              "ticks": ""
             }
            },
            "type": "scattercarpet"
           }
          ],
          "scattergeo": [
           {
            "marker": {
             "colorbar": {
              "outlinewidth": 0,
              "ticks": ""
             }
            },
            "type": "scattergeo"
           }
          ],
          "scattergl": [
           {
            "marker": {
             "colorbar": {
              "outlinewidth": 0,
              "ticks": ""
             }
            },
            "type": "scattergl"
           }
          ],
          "scattermap": [
           {
            "marker": {
             "colorbar": {
              "outlinewidth": 0,
              "ticks": ""
             }
            },
            "type": "scattermap"
           }
          ],
          "scattermapbox": [
           {
            "marker": {
             "colorbar": {
              "outlinewidth": 0,
              "ticks": ""
             }
            },
            "type": "scattermapbox"
           }
          ],
          "scatterpolar": [
           {
            "marker": {
             "colorbar": {
              "outlinewidth": 0,
              "ticks": ""
             }
            },
            "type": "scatterpolar"
           }
          ],
          "scatterpolargl": [
           {
            "marker": {
             "colorbar": {
              "outlinewidth": 0,
              "ticks": ""
             }
            },
            "type": "scatterpolargl"
           }
          ],
          "scatterternary": [
           {
            "marker": {
             "colorbar": {
              "outlinewidth": 0,
              "ticks": ""
             }
            },
            "type": "scatterternary"
           }
          ],
          "surface": [
           {
            "colorbar": {
             "outlinewidth": 0,
             "ticks": ""
            },
            "colorscale": [
             [
              0,
              "#0d0887"
             ],
             [
              0.1111111111111111,
              "#46039f"
             ],
             [
              0.2222222222222222,
              "#7201a8"
             ],
             [
              0.3333333333333333,
              "#9c179e"
             ],
             [
              0.4444444444444444,
              "#bd3786"
             ],
             [
              0.5555555555555556,
              "#d8576b"
             ],
             [
              0.6666666666666666,
              "#ed7953"
             ],
             [
              0.7777777777777778,
              "#fb9f3a"
             ],
             [
              0.8888888888888888,
              "#fdca26"
             ],
             [
              1,
              "#f0f921"
             ]
            ],
            "type": "surface"
           }
          ],
          "table": [
           {
            "cells": {
             "fill": {
              "color": "#EBF0F8"
             },
             "line": {
              "color": "white"
             }
            },
            "header": {
             "fill": {
              "color": "#C8D4E3"
             },
             "line": {
              "color": "white"
             }
            },
            "type": "table"
           }
          ]
         },
         "layout": {
          "annotationdefaults": {
           "arrowcolor": "#2a3f5f",
           "arrowhead": 0,
           "arrowwidth": 1
          },
          "autotypenumbers": "strict",
          "coloraxis": {
           "colorbar": {
            "outlinewidth": 0,
            "ticks": ""
           }
          },
          "colorscale": {
           "diverging": [
            [
             0,
             "#8e0152"
            ],
            [
             0.1,
             "#c51b7d"
            ],
            [
             0.2,
             "#de77ae"
            ],
            [
             0.3,
             "#f1b6da"
            ],
            [
             0.4,
             "#fde0ef"
            ],
            [
             0.5,
             "#f7f7f7"
            ],
            [
             0.6,
             "#e6f5d0"
            ],
            [
             0.7,
             "#b8e186"
            ],
            [
             0.8,
             "#7fbc41"
            ],
            [
             0.9,
             "#4d9221"
            ],
            [
             1,
             "#276419"
            ]
           ],
           "sequential": [
            [
             0,
             "#0d0887"
            ],
            [
             0.1111111111111111,
             "#46039f"
            ],
            [
             0.2222222222222222,
             "#7201a8"
            ],
            [
             0.3333333333333333,
             "#9c179e"
            ],
            [
             0.4444444444444444,
             "#bd3786"
            ],
            [
             0.5555555555555556,
             "#d8576b"
            ],
            [
             0.6666666666666666,
             "#ed7953"
            ],
            [
             0.7777777777777778,
             "#fb9f3a"
            ],
            [
             0.8888888888888888,
             "#fdca26"
            ],
            [
             1,
             "#f0f921"
            ]
           ],
           "sequentialminus": [
            [
             0,
             "#0d0887"
            ],
            [
             0.1111111111111111,
             "#46039f"
            ],
            [
             0.2222222222222222,
             "#7201a8"
            ],
            [
             0.3333333333333333,
             "#9c179e"
            ],
            [
             0.4444444444444444,
             "#bd3786"
            ],
            [
             0.5555555555555556,
             "#d8576b"
            ],
            [
             0.6666666666666666,
             "#ed7953"
            ],
            [
             0.7777777777777778,
             "#fb9f3a"
            ],
            [
             0.8888888888888888,
             "#fdca26"
            ],
            [
             1,
             "#f0f921"
            ]
           ]
          },
          "colorway": [
           "#636efa",
           "#EF553B",
           "#00cc96",
           "#ab63fa",
           "#FFA15A",
           "#19d3f3",
           "#FF6692",
           "#B6E880",
           "#FF97FF",
           "#FECB52"
          ],
          "font": {
           "color": "#2a3f5f"
          },
          "geo": {
           "bgcolor": "white",
           "lakecolor": "white",
           "landcolor": "#E5ECF6",
           "showlakes": true,
           "showland": true,
           "subunitcolor": "white"
          },
          "hoverlabel": {
           "align": "left"
          },
          "hovermode": "closest",
          "mapbox": {
           "style": "light"
          },
          "paper_bgcolor": "white",
          "plot_bgcolor": "#E5ECF6",
          "polar": {
           "angularaxis": {
            "gridcolor": "white",
            "linecolor": "white",
            "ticks": ""
           },
           "bgcolor": "#E5ECF6",
           "radialaxis": {
            "gridcolor": "white",
            "linecolor": "white",
            "ticks": ""
           }
          },
          "scene": {
           "xaxis": {
            "backgroundcolor": "#E5ECF6",
            "gridcolor": "white",
            "gridwidth": 2,
            "linecolor": "white",
            "showbackground": true,
            "ticks": "",
            "zerolinecolor": "white"
           },
           "yaxis": {
            "backgroundcolor": "#E5ECF6",
            "gridcolor": "white",
            "gridwidth": 2,
            "linecolor": "white",
            "showbackground": true,
            "ticks": "",
            "zerolinecolor": "white"
           },
           "zaxis": {
            "backgroundcolor": "#E5ECF6",
            "gridcolor": "white",
            "gridwidth": 2,
            "linecolor": "white",
            "showbackground": true,
            "ticks": "",
            "zerolinecolor": "white"
           }
          },
          "shapedefaults": {
           "line": {
            "color": "#2a3f5f"
           }
          },
          "ternary": {
           "aaxis": {
            "gridcolor": "white",
            "linecolor": "white",
            "ticks": ""
           },
           "baxis": {
            "gridcolor": "white",
            "linecolor": "white",
            "ticks": ""
           },
           "bgcolor": "#E5ECF6",
           "caxis": {
            "gridcolor": "white",
            "linecolor": "white",
            "ticks": ""
           }
          },
          "title": {
           "x": 0.05
          },
          "xaxis": {
           "automargin": true,
           "gridcolor": "white",
           "linecolor": "white",
           "ticks": "",
           "title": {
            "standoff": 15
           },
           "zerolinecolor": "white",
           "zerolinewidth": 2
          },
          "yaxis": {
           "automargin": true,
           "gridcolor": "white",
           "linecolor": "white",
           "ticks": "",
           "title": {
            "standoff": 15
           },
           "zerolinecolor": "white",
           "zerolinewidth": 2
          }
         }
        },
        "title": {
         "text": "Filtered and Preprocessed PCD"
        },
        "width": 1200
       }
      }
     },
     "metadata": {},
     "output_type": "display_data"
    }
   ],
   "source": [
    "# Initialize pcd class\n",
    "pcd = pcd_data.PCD(laz_file_path, polygon=shapely_polygon)\n",
    "# Read, crop, and filter pcd data to only contain the points inside the polygon\n",
    "filtered_pcd = pcd.readCropLaz()\n",
    "# Preprocess pcd\n",
    "preprocessed_pcd = pcd.preprocessPcd(filtered_pcd)\n",
    "\n",
    "# Visualize preprocessed pcd with plotly\n",
    "# First, convert open3d pcd to numpy array\n",
    "points = np.asarray(preprocessed_pcd.points)\n",
    "# Create a 3d scatter plot with the points\n",
    "fig = go.Figure(\n",
    "    data=[go.Scatter3d(x=points[:, 0], y=points[:, 1], z=points[:, 2], mode=\"markers\")],\n",
    "    layout=go.Layout(\n",
    "        title=\"Filtered and Preprocessed PCD\",\n",
    "        width=1200, height=1000,\n",
    "        scene=dict(\n",
    "            xaxis_title=\"X (meters)\", yaxis_title=\"Y (meters)\", zaxis_title=\"Z (meters)\",\n",
    "            # This controls the plot view and zoom. Smaller x, y, z values zooms in.\n",
    "            camera=dict(eye=dict(x=1.5, y=1.5, z=1.5)))\n",
    "        ))\n",
    "fig.show()"
   ]
  },
  {
   "cell_type": "code",
   "execution_count": 92,
   "id": "a77f2c88",
   "metadata": {},
   "outputs": [],
   "source": [
    "# Initialize PanelSegmentation class with preprocessed pcd\n",
    "ps = plane_segmentation.PlaneSegmentation(preprocessed_pcd)\n",
    "# Segment lidar points into planes\n",
    "ps.segmentPlanes()\n",
    "\n",
    "# Create plane mesh for visualization \n",
    "plane_mesh_list = ps.visualizePlanes()\n",
    "\n",
    "\n",
    "\n"
   ]
  }
 ],
 "metadata": {
  "kernelspec": {
   "display_name": "automated-az-tilt",
   "language": "python",
   "name": "automated-az-tilt"
  },
  "language_info": {
   "codemirror_mode": {
    "name": "ipython",
    "version": 3
   },
   "file_extension": ".py",
   "mimetype": "text/x-python",
   "name": "python",
   "nbconvert_exporter": "python",
   "pygments_lexer": "ipython3",
   "version": "3.11.5"
  }
 },
 "nbformat": 4,
 "nbformat_minor": 5
}
