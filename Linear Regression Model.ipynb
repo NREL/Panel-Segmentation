{
 "cells": [
  {
   "cell_type": "code",
   "execution_count": 1,
   "id": "e5709c54",
   "metadata": {},
   "outputs": [
    {
     "name": "stdout",
     "output_type": "stream",
     "text": [
      "20th percentile: 23291.4\n",
      "80th percentile: 79736.4\n",
      "15th percentile: 21575.25\n",
      "85th percentile: 88313.4\n",
      "10th percentile: 19037.4\n",
      "90th percentile: 110967.30000000009\n"
     ]
    }
   ],
   "source": [
    "import numpy as np\n",
    "import pandas as pd\n",
    "from sklearn.model_selection import KFold, cross_val_score\n",
    "import matplotlib.pyplot as plt\n",
    "from sklearn.linear_model import LinearRegression\n",
    "import sklearn\n",
    "\n",
    "df = pd.read_csv(\"final_linear_regression_dataset_updated_v2.csv\")\n",
    "pixelValues = df[\"pixel_count\"]\n",
    "percentile20 = np.percentile(pixelValues, 20)\n",
    "percentile80 = np.percentile(pixelValues, 80)\n",
    "percentile15 = np.percentile(pixelValues, 15)\n",
    "percentile85 = np.percentile(pixelValues, 85)\n",
    "percentile10 = np.percentile(pixelValues, 10)\n",
    "percentile90 = np.percentile(pixelValues, 90)\n",
    "print(\"20th percentile: \" + str(percentile20))\n",
    "print(\"80th percentile: \" + str(percentile80))\n",
    "print(\"15th percentile: \" + str(percentile15))\n",
    "print(\"85th percentile: \" + str(percentile85))\n",
    "print(\"10th percentile: \" + str(percentile10))\n",
    "print(\"90th percentile: \" + str(percentile90))"
   ]
  },
  {
   "cell_type": "code",
   "execution_count": 2,
   "id": "8a2fd390",
   "metadata": {},
   "outputs": [
    {
     "name": "stdout",
     "output_type": "stream",
     "text": [
      "     pixel_count  mounting_configuration   power\n",
      "0          30897                       2  218.62\n",
      "1          30300                       2  183.60\n",
      "2          26019                       2  128.52\n",
      "3          26622                       2  136.00\n",
      "4          36720                       2  193.46\n",
      "..           ...                     ...     ...\n",
      "366        30234                       1   47.84\n",
      "368        84750                       1  168.03\n",
      "369        59004                       1  272.06\n",
      "370        60723                       1  233.70\n",
      "371        35940                       1  247.80\n",
      "\n",
      "[296 rows x 3 columns]\n"
     ]
    }
   ],
   "source": [
    "# Remove the values from the bottom and top 10% from dataset\n",
    "df = df[ df['pixel_count'] > percentile10]\n",
    "df = df[ df['pixel_count'] < percentile90]\n",
    "print(df)\n",
    "df.to_csv(\"percentile_10_removed.csv\", index=False)"
   ]
  },
  {
   "cell_type": "code",
   "execution_count": 3,
   "id": "e4c64de7",
   "metadata": {},
   "outputs": [
    {
     "name": "stdout",
     "output_type": "stream",
     "text": [
      "{'fit_time': array([0.02970076, 0.00099874, 0.00199413]), 'score_time': array([0.00199437, 0.00099659, 0.0009973 ]), 'test_r2': array([0.20354701, 0.47774292, 0.37123724]), 'test_neg_mean_absolute_error': array([ -92.62853872,  -69.18205253, -120.39079696]), 'test_neg_mean_squared_error': array([-26656.68823695,  -8364.8146248 , -37706.96024776])}\n"
     ]
    }
   ],
   "source": [
    "inputValues = df.values[:, 0:2] \n",
    "outputValue = df.values[:, 2] \n",
    "\n",
    "# Create 3 folds\n",
    "kf = KFold(n_splits=3, random_state=None, shuffle=False)\n",
    "\n",
    "score = sklearn.model_selection.cross_validate(sklearn.linear_model.LinearRegression(), inputValues, outputValue, scoring=[\"r2\", \"neg_mean_absolute_error\", \"neg_mean_squared_error\"], cv= kf)\n",
    "print(score)\n"
   ]
  },
  {
   "cell_type": "code",
   "execution_count": 4,
   "id": "fa93bac2",
   "metadata": {},
   "outputs": [
    {
     "name": "stdout",
     "output_type": "stream",
     "text": [
      "Feature: 0, Score: 64.77706\n",
      "Feature: 1, Score: 17.97943\n"
     ]
    },
    {
     "data": {
      "image/png": "[encoded data removed]",
      "text/plain": [
       "<Figure size 432x288 with 1 Axes>"
      ]
     },
     "metadata": {
      "needs_background": "light"
     },
     "output_type": "display_data"
    }
   ],
   "source": [
    "# Feature importance\n",
    "# linear regression feature importance\n",
    "from sklearn.datasets import make_regression\n",
    "from sklearn.linear_model import LinearRegression\n",
    "from matplotlib import pyplot\n",
    "# define dataset\n",
    "X, y = make_regression(n_samples=300, n_features=2, n_informative=2, random_state=1)\n",
    "# define the model\n",
    "model = LinearRegression()\n",
    "# fit the model\n",
    "model.fit(X, y)\n",
    "# get importance\n",
    "importance = model.coef_\n",
    "# summarize feature importance\n",
    "for i,v in enumerate(importance):\n",
    "    print('Feature: %0d, Score: %.5f' % (i,v))\n",
    "# plot feature importance\n",
    "pyplot.bar([x for x in range(len(importance))], importance)\n",
    "pyplot.show()"
   ]
  },
  {
   "cell_type": "code",
   "execution_count": 5,
   "id": "141fd239",
   "metadata": {},
   "outputs": [
    {
     "data": {
      "image/png": "[encoded data removed]",
      "text/plain": [
       "<Figure size 432x288 with 1 Axes>"
      ]
     },
     "metadata": {
      "needs_background": "light"
     },
     "output_type": "display_data"
    },
    {
     "name": "stdout",
     "output_type": "stream",
     "text": [
      "296\n"
     ]
    }
   ],
   "source": [
    "predicted = sklearn.model_selection.cross_val_predict(sklearn.linear_model.LinearRegression(), inputValues, outputValue, cv=kf)\n",
    "\n",
    "import matplotlib.pyplot as plt\n",
    "\n",
    "fig, ax = plt.subplots()\n",
    "ax.scatter(outputValue, predicted, edgecolors=(0, 0, 0))\n",
    "ax.plot([outputValue.min(), outputValue.max()], [outputValue.min(), outputValue.max()], 'k--', lw=4)\n",
    "ax.set_xlabel('Measured')\n",
    "ax.set_ylabel('Predicted')\n",
    "plt.show()\n",
    "print(len(predicted))"
   ]
  },
  {
   "cell_type": "code",
   "execution_count": 36,
   "id": "1e0e4f2f",
   "metadata": {},
   "outputs": [],
   "source": [
    "predictedDf = pd.DataFrame(predicted)\n",
    "predictedDf.to_csv(\"predicted_values.csv\", index=False)"
   ]
  },
  {
   "cell_type": "code",
   "execution_count": 38,
   "id": "e1e95d30",
   "metadata": {},
   "outputs": [
    {
     "data": {
      "text/plain": [
       "LinearRegression(normalize=True)"
      ]
     },
     "execution_count": 38,
     "metadata": {},
     "output_type": "execute_result"
    }
   ],
   "source": [
    "ordinaryLeastSquaresModel = sklearn.linear_model.LinearRegression()\n",
    "ordinaryLeastSquaresModel.fit(inputValues, outputValue)\n",
    "LinearRegression(copy_X=True, fit_intercept=True, n_jobs=None, normalize=True)"
   ]
  },
  {
   "cell_type": "code",
   "execution_count": 39,
   "id": "d1940d84",
   "metadata": {},
   "outputs": [
    {
     "name": "stdout",
     "output_type": "stream",
     "text": [
      "coef=  [4.79658999e-03 9.44964692e+01]\n",
      "intercept=  -130.79650289810746\n"
     ]
    }
   ],
   "source": [
    "coef = ordinaryLeastSquaresModel.coef_\n",
    "intercept = ordinaryLeastSquaresModel.intercept_\n",
    "print('coef= ', coef)\n",
    "print('intercept= ', intercept)"
   ]
  },
  {
   "cell_type": "code",
   "execution_count": 40,
   "id": "453c21be",
   "metadata": {},
   "outputs": [],
   "source": [
    "predictedPower = pd.DataFrame(ordinaryLeastSquaresModel.predict(inputValues), columns=['Predicted Power']) \n",
    "actualPower = pd.DataFrame(outputValue, columns=['Actual Power'])\n",
    "actualPower = actualPower.reset_index(drop=True)\n",
    "df_actual_vs_predicted = pd.concat([actualPower,predictedPower],axis =1)\n",
    "df_actual_vs_predicted = df_actual_vs_predicted.T\n"
   ]
  },
  {
   "cell_type": "code",
   "execution_count": 41,
   "id": "239162d3",
   "metadata": {},
   "outputs": [],
   "source": [
    "df_actual_vs_predicted.to_csv(\"sctual_vs_predicted.csv\", index=False)"
   ]
  },
  {
   "cell_type": "code",
   "execution_count": 42,
   "id": "a823b34b",
   "metadata": {},
   "outputs": [
    {
     "data": {
      "text/html": [
       "<div>\n",
       "<style scoped>\n",
       "    .dataframe tbody tr th:only-of-type {\n",
       "        vertical-align: middle;\n",
       "    }\n",
       "\n",
       "    .dataframe tbody tr th {\n",
       "        vertical-align: top;\n",
       "    }\n",
       "\n",
       "    .dataframe thead th {\n",
       "        text-align: right;\n",
       "    }\n",
       "</style>\n",
       "<table border=\"1\" class=\"dataframe\">\n",
       "  <thead>\n",
       "    <tr style=\"text-align: right;\">\n",
       "      <th></th>\n",
       "      <th>Actual Power</th>\n",
       "      <th>Predicted Power</th>\n",
       "    </tr>\n",
       "  </thead>\n",
       "  <tbody>\n",
       "    <tr>\n",
       "      <th>0</th>\n",
       "      <td>218.62</td>\n",
       "      <td>206.396676</td>\n",
       "    </tr>\n",
       "    <tr>\n",
       "      <th>1</th>\n",
       "      <td>183.60</td>\n",
       "      <td>203.533112</td>\n",
       "    </tr>\n",
       "    <tr>\n",
       "      <th>2</th>\n",
       "      <td>128.52</td>\n",
       "      <td>182.998910</td>\n",
       "    </tr>\n",
       "    <tr>\n",
       "      <th>3</th>\n",
       "      <td>136.00</td>\n",
       "      <td>185.891254</td>\n",
       "    </tr>\n",
       "    <tr>\n",
       "      <th>4</th>\n",
       "      <td>193.46</td>\n",
       "      <td>234.327220</td>\n",
       "    </tr>\n",
       "    <tr>\n",
       "      <th>...</th>\n",
       "      <td>...</td>\n",
       "      <td>...</td>\n",
       "    </tr>\n",
       "    <tr>\n",
       "      <th>270</th>\n",
       "      <td>47.84</td>\n",
       "      <td>108.720068</td>\n",
       "    </tr>\n",
       "    <tr>\n",
       "      <th>271</th>\n",
       "      <td>168.03</td>\n",
       "      <td>370.210968</td>\n",
       "    </tr>\n",
       "    <tr>\n",
       "      <th>272</th>\n",
       "      <td>272.06</td>\n",
       "      <td>246.717962</td>\n",
       "    </tr>\n",
       "    <tr>\n",
       "      <th>273</th>\n",
       "      <td>233.70</td>\n",
       "      <td>254.963300</td>\n",
       "    </tr>\n",
       "    <tr>\n",
       "      <th>274</th>\n",
       "      <td>247.80</td>\n",
       "      <td>136.089410</td>\n",
       "    </tr>\n",
       "  </tbody>\n",
       "</table>\n",
       "<p>275 rows × 2 columns</p>\n",
       "</div>"
      ],
      "text/plain": [
       "     Actual Power  Predicted Power\n",
       "0          218.62       206.396676\n",
       "1          183.60       203.533112\n",
       "2          128.52       182.998910\n",
       "3          136.00       185.891254\n",
       "4          193.46       234.327220\n",
       "..            ...              ...\n",
       "270         47.84       108.720068\n",
       "271        168.03       370.210968\n",
       "272        272.06       246.717962\n",
       "273        233.70       254.963300\n",
       "274        247.80       136.089410\n",
       "\n",
       "[275 rows x 2 columns]"
      ]
     },
     "execution_count": 42,
     "metadata": {},
     "output_type": "execute_result"
    }
   ],
   "source": [
    "df_actual_vs_predicted.T"
   ]
  },
  {
   "cell_type": "code",
   "execution_count": 43,
   "id": "873a4213",
   "metadata": {},
   "outputs": [],
   "source": [
    "df_actual_vs_predicted.T.to_csv(\"sctual_vs_predicted_v2.csv\", index=False)"
   ]
  },
  {
   "cell_type": "code",
   "execution_count": null,
   "id": "95eee2f2",
   "metadata": {},
   "outputs": [],
   "source": []
  }
 ],
 "metadata": {
  "kernelspec": {
   "display_name": "Python 3 (ipykernel)",
   "language": "python",
   "name": "python3"
  },
  "language_info": {
   "codemirror_mode": {
    "name": "ipython",
    "version": 3
   },
   "file_extension": ".py",
   "mimetype": "text/x-python",
   "name": "python",
   "nbconvert_exporter": "python",
   "pygments_lexer": "ipython3",
   "version": "3.9.12"
  }
 },
 "nbformat": 4,
 "nbformat_minor": 5
}
