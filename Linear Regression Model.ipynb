{
 "cells": [
  {
   "cell_type": "code",
   "execution_count": 6,
   "id": "e5709c54",
   "metadata": {},
   "outputs": [],
   "source": [
    "import numpy as np\n",
    "import pandas as pd\n",
    "from sklearn.model_selection import KFold, cross_val_score\n",
    "import matplotlib.pyplot as plt\n",
    "from sklearn.linear_model import LinearRegression\n",
    "import sklearn\n",
    "import pickle\n",
    "\n",
    "df = pd.read_csv(\"linear_regression_dataset_with_module_technology.csv\")"
   ]
  },
  {
   "cell_type": "code",
   "execution_count": 7,
   "id": "e4c64de7",
   "metadata": {},
   "outputs": [
    {
     "name": "stdout",
     "output_type": "stream",
     "text": [
      "{'fit_time': array([0.00997496, 0.00099802, 0.00099492]), 'score_time': array([0.0019927 , 0.00099635, 0.0009985 ]), 'test_r2': array([0.84993996, 0.70015621, 0.78593788]), 'test_neg_mean_absolute_error': array([ -97.95064104, -116.57155454,  -91.04332994]), 'test_neg_mean_squared_error': array([-27476.62345766, -36524.98716052, -17594.49911508])}\n"
     ]
    }
   ],
   "source": [
    "df = df[['pixel_count', 'mounting_configuration', 'technology_type', 'power']]\n",
    "# Only include mono-Si and multi-Si modules\n",
    "df = df[(df['technology_type']==1) | (df['technology_type']==2)]\n",
    "inputValues = df.values[:, 0:3] \n",
    "outputValue = df.values[:, 3] \n",
    "\n",
    "# Create 3 folds\n",
    "kf = KFold(n_splits=3, random_state=None, shuffle=True)\n",
    "\n",
    "score = sklearn.model_selection.cross_validate(sklearn.linear_model.LinearRegression(), inputValues, outputValue, scoring=[\"r2\", \"neg_mean_absolute_error\", \"neg_mean_squared_error\"], cv=kf)\n",
    "print(score)\n"
   ]
  },
  {
   "cell_type": "code",
   "execution_count": 8,
   "id": "8d20c9d4",
   "metadata": {},
   "outputs": [
    {
     "name": "stdout",
     "output_type": "stream",
     "text": [
      "                                 OLS Regression Results                                \n",
      "=======================================================================================\n",
      "Dep. Variable:                  power   R-squared (uncentered):                   0.889\n",
      "Model:                            OLS   Adj. R-squared (uncentered):              0.888\n",
      "Method:                 Least Squares   F-statistic:                              792.5\n",
      "Date:                Thu, 11 Aug 2022   Prob (F-statistic):                   2.36e-141\n",
      "Time:                        08:26:12   Log-Likelihood:                         -1948.2\n",
      "No. Observations:                 300   AIC:                                      3902.\n",
      "Df Residuals:                     297   BIC:                                      3914.\n",
      "Df Model:                           3                                                  \n",
      "Covariance Type:            nonrobust                                                  \n",
      "==========================================================================================\n",
      "                             coef    std err          t      P>|t|      [0.025      0.975]\n",
      "------------------------------------------------------------------------------------------\n",
      "pixel_count                0.0196      0.001     35.438      0.000       0.019       0.021\n",
      "mounting_configuration    25.6026     12.945      1.978      0.049       0.126      51.079\n",
      "technology_type           35.6394     13.810      2.581      0.010       8.461      62.818\n",
      "==============================================================================\n",
      "Omnibus:                      144.534   Durbin-Watson:                   1.553\n",
      "Prob(Omnibus):                  0.000   Jarque-Bera (JB):              735.500\n",
      "Skew:                           1.986   Prob(JB):                    1.94e-160\n",
      "Kurtosis:                       9.562   Cond. No.                     3.94e+04\n",
      "==============================================================================\n",
      "\n",
      "Notes:\n",
      "[1] R² is computed without centering (uncentered) since the model does not contain a constant.\n",
      "[2] Standard Errors assume that the covariance matrix of the errors is correctly specified.\n",
      "[3] The condition number is large, 3.94e+04. This might indicate that there are\n",
      "strong multicollinearity or other numerical problems.\n",
      "[[5.82500e+03 2.00000e+00 2.00000e+00]\n",
      " [4.94500e+03 2.00000e+00 2.00000e+00]\n",
      " [3.91600e+03 2.00000e+00 2.00000e+00]\n",
      " [3.78800e+03 2.00000e+00 2.00000e+00]\n",
      " [5.34400e+03 2.00000e+00 2.00000e+00]\n",
      " [3.58500e+03 2.00000e+00 2.00000e+00]\n",
      " [2.00000e+04 2.00000e+00 2.00000e+00]\n",
      " [2.22600e+03 2.00000e+00 2.00000e+00]\n",
      " [4.72900e+03 2.00000e+00 2.00000e+00]\n",
      " [8.46900e+03 2.00000e+00 2.00000e+00]\n",
      " [1.17560e+04 2.00000e+00 2.00000e+00]\n",
      " [6.02300e+03 2.00000e+00 2.00000e+00]\n",
      " [1.05510e+04 2.00000e+00 2.00000e+00]\n",
      " [4.66900e+03 2.00000e+00 2.00000e+00]\n",
      " [1.03580e+04 2.00000e+00 2.00000e+00]\n",
      " [5.41640e+04 1.00000e+00 2.00000e+00]\n",
      " [1.46020e+04 1.00000e+00 2.00000e+00]\n",
      " [1.53290e+04 1.00000e+00 2.00000e+00]\n",
      " [1.78840e+04 1.00000e+00 2.00000e+00]\n",
      " [4.54300e+03 2.00000e+00 2.00000e+00]\n",
      " [2.97000e+03 2.00000e+00 2.00000e+00]\n",
      " [3.38500e+03 2.00000e+00 2.00000e+00]\n",
      " [6.97700e+03 2.00000e+00 2.00000e+00]\n",
      " [2.97300e+03 2.00000e+00 2.00000e+00]\n",
      " [2.37400e+03 2.00000e+00 2.00000e+00]\n",
      " [2.32700e+03 2.00000e+00 2.00000e+00]\n",
      " [3.66800e+03 2.00000e+00 2.00000e+00]\n",
      " [2.48100e+03 2.00000e+00 2.00000e+00]\n",
      " [3.24000e+03 2.00000e+00 2.00000e+00]\n",
      " [4.39900e+03 2.00000e+00 2.00000e+00]\n",
      " [2.81200e+03 2.00000e+00 2.00000e+00]\n",
      " [3.26900e+03 2.00000e+00 2.00000e+00]\n",
      " [2.62700e+03 2.00000e+00 2.00000e+00]\n",
      " [2.96600e+03 2.00000e+00 2.00000e+00]\n",
      " [2.83900e+03 2.00000e+00 2.00000e+00]\n",
      " [2.09000e+03 2.00000e+00 2.00000e+00]\n",
      " [5.03600e+03 2.00000e+00 2.00000e+00]\n",
      " [3.37400e+03 2.00000e+00 2.00000e+00]\n",
      " [2.72000e+03 2.00000e+00 2.00000e+00]\n",
      " [1.39100e+03 2.00000e+00 2.00000e+00]\n",
      " [4.09400e+03 2.00000e+00 2.00000e+00]\n",
      " [4.13600e+03 2.00000e+00 2.00000e+00]\n",
      " [4.95500e+03 2.00000e+00 2.00000e+00]\n",
      " [3.67500e+03 2.00000e+00 2.00000e+00]\n",
      " [3.09700e+03 2.00000e+00 2.00000e+00]\n",
      " [3.25300e+03 2.00000e+00 2.00000e+00]\n",
      " [4.08500e+03 2.00000e+00 2.00000e+00]\n",
      " [3.56900e+03 2.00000e+00 2.00000e+00]\n",
      " [3.35800e+03 2.00000e+00 2.00000e+00]\n",
      " [4.05300e+03 2.00000e+00 2.00000e+00]\n",
      " [1.86790e+04 2.00000e+00 2.00000e+00]\n",
      " [1.08030e+04 2.00000e+00 2.00000e+00]\n",
      " [1.86253e+05 2.00000e+00 2.00000e+00]\n",
      " [4.10900e+03 1.00000e+00 2.00000e+00]\n",
      " [5.49300e+03 2.00000e+00 2.00000e+00]\n",
      " [2.76500e+03 2.00000e+00 2.00000e+00]\n",
      " [3.56800e+03 2.00000e+00 2.00000e+00]\n",
      " [7.38700e+03 2.00000e+00 2.00000e+00]\n",
      " [4.73100e+03 2.00000e+00 2.00000e+00]\n",
      " [4.52600e+03 2.00000e+00 2.00000e+00]\n",
      " [4.92100e+03 2.00000e+00 2.00000e+00]\n",
      " [9.68800e+03 2.00000e+00 2.00000e+00]\n",
      " [2.48500e+03 2.00000e+00 2.00000e+00]\n",
      " [1.56900e+03 2.00000e+00 2.00000e+00]\n",
      " [4.33840e+04 1.00000e+00 2.00000e+00]\n",
      " [8.22600e+03 2.00000e+00 2.00000e+00]\n",
      " [4.45900e+03 2.00000e+00 2.00000e+00]\n",
      " [6.32300e+03 2.00000e+00 2.00000e+00]\n",
      " [3.54800e+03 2.00000e+00 2.00000e+00]\n",
      " [7.27000e+03 2.00000e+00 2.00000e+00]\n",
      " [5.96500e+03 2.00000e+00 2.00000e+00]\n",
      " [9.71400e+03 2.00000e+00 2.00000e+00]\n",
      " [2.89000e+03 2.00000e+00 2.00000e+00]\n",
      " [7.31900e+03 2.00000e+00 2.00000e+00]\n",
      " [7.91000e+03 2.00000e+00 2.00000e+00]\n",
      " [1.79400e+03 2.00000e+00 2.00000e+00]\n",
      " [5.14900e+03 2.00000e+00 2.00000e+00]\n",
      " [3.99400e+03 2.00000e+00 2.00000e+00]\n",
      " [1.08170e+04 2.00000e+00 2.00000e+00]\n",
      " [5.14400e+03 2.00000e+00 2.00000e+00]\n",
      " [3.82500e+03 2.00000e+00 2.00000e+00]\n",
      " [6.99300e+03 2.00000e+00 2.00000e+00]\n",
      " [3.61200e+03 2.00000e+00 2.00000e+00]\n",
      " [2.33300e+03 2.00000e+00 2.00000e+00]\n",
      " [1.26600e+03 2.00000e+00 2.00000e+00]\n",
      " [5.58200e+03 2.00000e+00 2.00000e+00]\n",
      " [8.55400e+03 2.00000e+00 2.00000e+00]\n",
      " [8.05800e+03 2.00000e+00 2.00000e+00]\n",
      " [8.61100e+03 2.00000e+00 2.00000e+00]\n",
      " [4.93900e+03 2.00000e+00 2.00000e+00]\n",
      " [8.36000e+03 2.00000e+00 2.00000e+00]\n",
      " [2.12700e+03 2.00000e+00 2.00000e+00]\n",
      " [4.68200e+03 2.00000e+00 2.00000e+00]\n",
      " [3.77100e+03 1.00000e+00 2.00000e+00]\n",
      " [2.52200e+03 1.00000e+00 2.00000e+00]\n",
      " [3.25900e+03 2.00000e+00 2.00000e+00]\n",
      " [3.90400e+03 2.00000e+00 2.00000e+00]\n",
      " [3.90400e+03 2.00000e+00 2.00000e+00]\n",
      " [7.19300e+03 2.00000e+00 2.00000e+00]\n",
      " [1.69720e+04 3.00000e+00 2.00000e+00]\n",
      " [4.07400e+03 1.00000e+00 2.00000e+00]\n",
      " [4.77090e+04 1.00000e+00 2.00000e+00]\n",
      " [1.51870e+04 1.00000e+00 2.00000e+00]\n",
      " [2.23050e+04 2.00000e+00 2.00000e+00]\n",
      " [6.83700e+03 2.00000e+00 2.00000e+00]\n",
      " [7.65400e+03 2.00000e+00 2.00000e+00]\n",
      " [9.37000e+02 2.00000e+00 2.00000e+00]\n",
      " [4.17800e+03 2.00000e+00 2.00000e+00]\n",
      " [4.65400e+03 2.00000e+00 2.00000e+00]\n",
      " [2.95800e+03 2.00000e+00 2.00000e+00]\n",
      " [4.00400e+03 2.00000e+00 2.00000e+00]\n",
      " [4.59400e+03 2.00000e+00 2.00000e+00]\n",
      " [7.20000e+03 1.00000e+00 2.00000e+00]\n",
      " [7.17300e+03 2.00000e+00 2.00000e+00]\n",
      " [6.02700e+03 2.00000e+00 2.00000e+00]\n",
      " [4.28000e+03 2.00000e+00 2.00000e+00]\n",
      " [6.00700e+03 2.00000e+00 2.00000e+00]\n",
      " [2.90400e+03 1.00000e+00 2.00000e+00]\n",
      " [1.93000e+03 1.00000e+00 2.00000e+00]\n",
      " [3.07100e+03 1.00000e+00 2.00000e+00]\n",
      " [2.86200e+03 1.00000e+00 2.00000e+00]\n",
      " [4.62200e+03 2.00000e+00 2.00000e+00]\n",
      " [9.99000e+02 2.00000e+00 2.00000e+00]\n",
      " [5.82600e+03 2.00000e+00 2.00000e+00]\n",
      " [4.49600e+03 2.00000e+00 2.00000e+00]\n",
      " [1.28970e+04 1.00000e+00 2.00000e+00]\n",
      " [1.32390e+04 1.00000e+00 2.00000e+00]\n",
      " [4.61500e+03 1.00000e+00 2.00000e+00]\n",
      " [2.25000e+03 1.00000e+00 2.00000e+00]\n",
      " [4.75900e+03 1.00000e+00 2.00000e+00]\n",
      " [1.62700e+03 2.00000e+00 2.00000e+00]\n",
      " [7.28900e+03 2.00000e+00 2.00000e+00]\n",
      " [6.56500e+03 2.00000e+00 2.00000e+00]\n",
      " [5.45800e+03 2.00000e+00 2.00000e+00]\n",
      " [4.76000e+03 2.00000e+00 2.00000e+00]\n",
      " [4.65100e+03 2.00000e+00 2.00000e+00]\n",
      " [4.74000e+03 1.00000e+00 2.00000e+00]\n",
      " [1.06530e+04 2.00000e+00 2.00000e+00]\n",
      " [1.29830e+04 2.00000e+00 2.00000e+00]\n",
      " [1.30790e+04 2.00000e+00 2.00000e+00]\n",
      " [1.66280e+04 2.00000e+00 2.00000e+00]\n",
      " [7.70400e+03 2.00000e+00 2.00000e+00]\n",
      " [1.77170e+04 1.00000e+00 2.00000e+00]\n",
      " [3.01740e+04 1.00000e+00 2.00000e+00]\n",
      " [1.13800e+04 2.00000e+00 2.00000e+00]\n",
      " [9.09700e+03 2.00000e+00 2.00000e+00]\n",
      " [6.17800e+03 2.00000e+00 2.00000e+00]\n",
      " [1.39010e+04 3.00000e+00 2.00000e+00]\n",
      " [7.13700e+03 2.00000e+00 2.00000e+00]\n",
      " [2.46670e+04 2.00000e+00 2.00000e+00]\n",
      " [6.54100e+03 2.00000e+00 2.00000e+00]\n",
      " [6.99100e+03 2.00000e+00 2.00000e+00]\n",
      " [5.44500e+03 2.00000e+00 2.00000e+00]\n",
      " [4.64500e+03 2.00000e+00 2.00000e+00]\n",
      " [1.20670e+04 2.00000e+00 2.00000e+00]\n",
      " [3.39600e+03 2.00000e+00 2.00000e+00]\n",
      " [1.54850e+04 1.00000e+00 2.00000e+00]\n",
      " [1.59790e+04 1.00000e+00 2.00000e+00]\n",
      " [1.84750e+04 1.00000e+00 2.00000e+00]\n",
      " [1.72410e+04 1.00000e+00 2.00000e+00]\n",
      " [1.50810e+04 1.00000e+00 2.00000e+00]\n",
      " [1.25560e+04 1.00000e+00 2.00000e+00]\n",
      " [1.27930e+04 1.00000e+00 2.00000e+00]\n",
      " [1.24070e+04 1.00000e+00 2.00000e+00]\n",
      " [1.43160e+04 1.00000e+00 2.00000e+00]\n",
      " [8.88000e+03 1.00000e+00 2.00000e+00]\n",
      " [1.02320e+04 1.00000e+00 2.00000e+00]\n",
      " [1.02320e+04 1.00000e+00 2.00000e+00]\n",
      " [2.51900e+03 1.00000e+00 2.00000e+00]\n",
      " [8.91500e+03 1.00000e+00 2.00000e+00]\n",
      " [5.46100e+03 1.00000e+00 2.00000e+00]\n",
      " [8.94800e+03 1.00000e+00 2.00000e+00]\n",
      " [5.34500e+03 1.00000e+00 2.00000e+00]\n",
      " [4.82700e+03 1.00000e+00 2.00000e+00]\n",
      " [3.61230e+04 1.00000e+00 2.00000e+00]\n",
      " [1.19410e+04 1.00000e+00 2.00000e+00]\n",
      " [1.18120e+04 1.00000e+00 2.00000e+00]\n",
      " [1.20480e+04 1.00000e+00 2.00000e+00]\n",
      " [1.59840e+04 1.00000e+00 2.00000e+00]\n",
      " [9.82700e+03 1.00000e+00 2.00000e+00]\n",
      " [6.55700e+03 1.00000e+00 1.00000e+00]\n",
      " [3.66840e+04 2.00000e+00 1.00000e+00]\n",
      " [1.40770e+04 2.00000e+00 1.00000e+00]\n",
      " [5.58830e+04 2.00000e+00 1.00000e+00]\n",
      " [2.17700e+03 2.00000e+00 1.00000e+00]\n",
      " [6.08200e+03 2.00000e+00 1.00000e+00]\n",
      " [6.66300e+03 2.00000e+00 1.00000e+00]\n",
      " [5.90500e+03 2.00000e+00 1.00000e+00]\n",
      " [2.66400e+03 2.00000e+00 1.00000e+00]\n",
      " [6.36680e+04 3.00000e+00 1.00000e+00]\n",
      " [2.31030e+04 2.00000e+00 1.00000e+00]\n",
      " [4.06000e+03 2.00000e+00 1.00000e+00]\n",
      " [8.15000e+03 2.00000e+00 1.00000e+00]\n",
      " [5.95600e+03 2.00000e+00 1.00000e+00]\n",
      " [5.92800e+03 2.00000e+00 1.00000e+00]\n",
      " [1.37250e+04 2.00000e+00 1.00000e+00]\n",
      " [1.86530e+04 2.00000e+00 1.00000e+00]\n",
      " [5.07100e+03 2.00000e+00 1.00000e+00]\n",
      " [5.35400e+04 3.00000e+00 1.00000e+00]\n",
      " [4.94900e+03 2.00000e+00 1.00000e+00]\n",
      " [1.74620e+04 2.00000e+00 1.00000e+00]\n",
      " [7.18100e+03 3.00000e+00 1.00000e+00]\n",
      " [5.70300e+03 2.00000e+00 1.00000e+00]\n",
      " [2.02570e+04 1.00000e+00 1.00000e+00]\n",
      " [1.77780e+04 1.00000e+00 1.00000e+00]\n",
      " [2.58570e+04 1.00000e+00 1.00000e+00]\n",
      " [1.47290e+04 1.00000e+00 1.00000e+00]\n",
      " [2.47000e+04 1.00000e+00 1.00000e+00]\n",
      " [1.80290e+04 1.00000e+00 1.00000e+00]\n",
      " [1.93400e+04 1.00000e+00 1.00000e+00]\n",
      " [1.84000e+04 1.00000e+00 1.00000e+00]\n",
      " [1.97970e+04 1.00000e+00 1.00000e+00]\n",
      " [4.68500e+03 2.00000e+00 1.00000e+00]\n",
      " [2.70400e+03 2.00000e+00 1.00000e+00]\n",
      " [2.84210e+04 2.00000e+00 1.00000e+00]\n",
      " [6.39200e+03 2.00000e+00 1.00000e+00]\n",
      " [1.28320e+04 2.00000e+00 1.00000e+00]\n",
      " [5.44800e+03 2.00000e+00 1.00000e+00]\n",
      " [7.13900e+03 2.00000e+00 1.00000e+00]\n",
      " [8.19400e+03 2.00000e+00 1.00000e+00]\n",
      " [4.63800e+03 2.00000e+00 1.00000e+00]\n",
      " [1.28770e+04 2.00000e+00 1.00000e+00]\n",
      " [2.14500e+03 2.00000e+00 1.00000e+00]\n",
      " [2.14500e+03 2.00000e+00 1.00000e+00]\n",
      " [2.14500e+03 2.00000e+00 1.00000e+00]\n",
      " [1.60050e+04 2.00000e+00 1.00000e+00]\n",
      " [1.57020e+04 2.00000e+00 1.00000e+00]\n",
      " [1.43200e+04 2.00000e+00 1.00000e+00]\n",
      " [1.36840e+04 2.00000e+00 1.00000e+00]\n",
      " [1.79190e+04 2.00000e+00 1.00000e+00]\n",
      " [1.30540e+04 2.00000e+00 1.00000e+00]\n",
      " [1.53600e+04 2.00000e+00 1.00000e+00]\n",
      " [7.20500e+03 2.00000e+00 1.00000e+00]\n",
      " [1.30760e+05 3.00000e+00 1.00000e+00]\n",
      " [7.19800e+03 2.00000e+00 1.00000e+00]\n",
      " [4.32000e+03 2.00000e+00 1.00000e+00]\n",
      " [2.98300e+03 2.00000e+00 1.00000e+00]\n",
      " [2.96300e+03 2.00000e+00 1.00000e+00]\n",
      " [2.14800e+03 2.00000e+00 1.00000e+00]\n",
      " [9.61100e+03 1.00000e+00 1.00000e+00]\n",
      " [4.83490e+04 3.00000e+00 1.00000e+00]\n",
      " [3.75700e+03 1.00000e+00 1.00000e+00]\n",
      " [1.59540e+04 1.00000e+00 1.00000e+00]\n",
      " [4.69900e+03 1.00000e+00 1.00000e+00]\n",
      " [7.86400e+03 2.00000e+00 1.00000e+00]\n",
      " [9.81400e+03 2.00000e+00 1.00000e+00]\n",
      " [5.16800e+03 2.00000e+00 1.00000e+00]\n",
      " [8.82400e+03 2.00000e+00 1.00000e+00]\n",
      " [7.19400e+03 2.00000e+00 1.00000e+00]\n",
      " [1.15480e+04 2.00000e+00 1.00000e+00]\n",
      " [5.45600e+03 2.00000e+00 1.00000e+00]\n",
      " [1.42120e+04 2.00000e+00 1.00000e+00]\n",
      " [2.11000e+03 2.00000e+00 1.00000e+00]\n",
      " [6.36600e+03 2.00000e+00 1.00000e+00]\n",
      " [9.92000e+03 2.00000e+00 1.00000e+00]\n",
      " [1.35310e+04 2.00000e+00 1.00000e+00]\n",
      " [5.90300e+03 2.00000e+00 1.00000e+00]\n",
      " [8.68900e+03 2.00000e+00 1.00000e+00]\n",
      " [9.21400e+03 2.00000e+00 1.00000e+00]\n",
      " [8.12600e+03 2.00000e+00 1.00000e+00]\n",
      " [1.09840e+04 2.00000e+00 1.00000e+00]\n",
      " [8.80500e+03 2.00000e+00 1.00000e+00]\n",
      " [6.46400e+03 2.00000e+00 1.00000e+00]\n",
      " [1.42160e+04 2.00000e+00 1.00000e+00]\n",
      " [4.92800e+03 2.00000e+00 1.00000e+00]\n",
      " [9.27400e+03 2.00000e+00 1.00000e+00]\n",
      " [5.91300e+03 2.00000e+00 1.00000e+00]\n",
      " [1.05870e+04 2.00000e+00 1.00000e+00]\n",
      " [8.26200e+03 2.00000e+00 1.00000e+00]\n",
      " [7.27700e+03 2.00000e+00 1.00000e+00]\n",
      " [7.00800e+03 2.00000e+00 1.00000e+00]\n",
      " [6.43100e+03 2.00000e+00 1.00000e+00]\n",
      " [7.85300e+03 2.00000e+00 1.00000e+00]\n",
      " [1.02660e+04 2.00000e+00 1.00000e+00]\n",
      " [8.98400e+03 2.00000e+00 1.00000e+00]\n",
      " [8.20400e+03 2.00000e+00 1.00000e+00]\n",
      " [1.13260e+04 2.00000e+00 1.00000e+00]\n",
      " [4.65400e+03 2.00000e+00 1.00000e+00]\n",
      " [9.10300e+03 2.00000e+00 1.00000e+00]\n",
      " [4.52110e+04 3.00000e+00 1.00000e+00]\n",
      " [2.12920e+04 3.00000e+00 1.00000e+00]\n",
      " [1.15090e+04 2.00000e+00 1.00000e+00]\n",
      " [7.90900e+03 2.00000e+00 1.00000e+00]\n",
      " [3.24800e+03 1.00000e+00 1.00000e+00]\n",
      " [3.15100e+03 1.00000e+00 1.00000e+00]\n",
      " [2.70300e+03 1.00000e+00 1.00000e+00]\n",
      " [2.58100e+03 1.00000e+00 1.00000e+00]\n",
      " [6.91630e+04 1.00000e+00 1.00000e+00]\n",
      " [2.63700e+03 1.00000e+00 1.00000e+00]\n",
      " [2.67500e+03 1.00000e+00 1.00000e+00]\n",
      " [3.19200e+03 1.00000e+00 1.00000e+00]\n",
      " [4.75760e+04 1.00000e+00 1.00000e+00]\n",
      " [1.86130e+04 1.00000e+00 1.00000e+00]\n",
      " [1.82200e+04 3.00000e+00 1.00000e+00]\n",
      " [7.52200e+03 1.00000e+00 1.00000e+00]\n",
      " [1.06920e+04 1.00000e+00 1.00000e+00]\n",
      " [1.83820e+04 1.00000e+00 1.00000e+00]\n",
      " [6.02800e+03 1.00000e+00 1.00000e+00]\n",
      " [9.15190e+04 1.00000e+00 1.00000e+00]\n",
      " [1.17210e+04 1.00000e+00 1.00000e+00]]\n"
     ]
    }
   ],
   "source": [
    "# Get the associated p-values for each variable in the regression model\n",
    "\n",
    "import statsmodels.api as sm\n",
    "\n",
    "X = df[['pixel_count', 'mounting_configuration', 'technology_type']]\n",
    "est = sm.OLS(df['power'], X)\n",
    "est2 = est.fit()\n",
    "print(est2.summary())\n",
    "\n",
    "print(inputValues)"
   ]
  },
  {
   "cell_type": "code",
   "execution_count": 9,
   "id": "fa93bac2",
   "metadata": {},
   "outputs": [
    {
     "name": "stdout",
     "output_type": "stream",
     "text": [
      "Feature: 0, Score: 7.19472\n",
      "Feature: 1, Score: 69.58461\n",
      "Feature: 2, Score: 97.10833\n"
     ]
    },
    {
     "data": {
      "image/png": "[encoded data removed]",
      "text/plain": [
       "<Figure size 432x288 with 1 Axes>"
      ]
     },
     "metadata": {
      "needs_background": "light"
     },
     "output_type": "display_data"
    }
   ],
   "source": [
    "# Feature importance\n",
    "# linear regression feature importance\n",
    "from sklearn.datasets import make_regression\n",
    "from sklearn.linear_model import LinearRegression\n",
    "from matplotlib import pyplot\n",
    "# define dataset\n",
    "X, y = make_regression(n_samples=300, n_features=3, n_informative=3, random_state=1)\n",
    "# define the model\n",
    "model = LinearRegression()\n",
    "# fit the model\n",
    "model.fit(X, y)\n",
    "# get importance\n",
    "importance = model.coef_\n",
    "# summarize feature importance\n",
    "for i,v in enumerate(importance):\n",
    "    print('Feature: %0d, Score: %.5f' % (i,v))\n",
    "# plot feature importance\n",
    "pyplot.bar([x for x in range(len(importance))], importance)\n",
    "pyplot.show()"
   ]
  },
  {
   "cell_type": "code",
   "execution_count": 11,
   "id": "141fd239",
   "metadata": {
    "scrolled": true
   },
   "outputs": [
    {
     "data": {
      "image/png": "[encoded data removed]",
      "text/plain": [
       "<Figure size 432x288 with 1 Axes>"
      ]
     },
     "metadata": {
      "needs_background": "light"
     },
     "output_type": "display_data"
    },
    {
     "name": "stdout",
     "output_type": "stream",
     "text": [
      "300\n",
      "predicted type: <class 'numpy.ndarray'>\n",
      "output type: <class 'numpy.ndarray'>\n"
     ]
    }
   ],
   "source": [
    "predicted = sklearn.model_selection.cross_val_predict(sklearn.linear_model.LinearRegression(), inputValues, outputValue, cv=kf)\n",
    "\n",
    "import matplotlib.pyplot as plt\n",
    "\n",
    "fig, ax = plt.subplots()\n",
    "ax.scatter(outputValue, predicted, edgecolors=(0, 0, 0), c=df.technology_type, cmap='Set3')\n",
    "ax.plot([outputValue.min(), outputValue.max()], [outputValue.min(), outputValue.max()], 'k--', lw=4)\n",
    "ax.set_xlabel('Measured')\n",
    "ax.set_ylabel('Predicted')\n",
    "plt.show()\n",
    "print(len(predicted))\n",
    "with open('./panel_segmentation/models/cross_validation_prediction_model', 'wb') as files:\n",
    "    pickle.dump(predicted, files)"
   ]
  },
  {
   "cell_type": "code",
   "execution_count": 55,
   "id": "e1e95d30",
   "metadata": {},
   "outputs": [
    {
     "data": {
      "text/plain": [
       "LinearRegression(fit_intercept=False)"
      ]
     },
     "execution_count": 55,
     "metadata": {},
     "output_type": "execute_result"
    }
   ],
   "source": [
    "ordinaryLeastSquaresModel = sklearn.linear_model.LinearRegression()\n",
    "ordinaryLeastSquaresModel.fit(inputValues, outputValue)\n",
    "LinearRegression(copy_X=True, fit_intercept=False, n_jobs=None)"
   ]
  },
  {
   "cell_type": "code",
   "execution_count": 56,
   "id": "d1940d84",
   "metadata": {},
   "outputs": [
    {
     "name": "stdout",
     "output_type": "stream",
     "text": [
      "coef=  [1.95733679e-02 2.36353582e+01 3.37310388e+01]\n"
     ]
    }
   ],
   "source": [
    "coef = ordinaryLeastSquaresModel.coef_\n",
    "#intercept = ordinaryLeastSquaresModel.intercept_\n",
    "print('coef= ', coef)\n",
    "#print('intercept= ', intercept)"
   ]
  },
  {
   "cell_type": "code",
   "execution_count": 36,
   "id": "453c21be",
   "metadata": {},
   "outputs": [],
   "source": [
    "predictedPower = pd.DataFrame(ordinaryLeastSquaresModel.predict(inputValues), columns=['Predicted Power']) \n",
    "actualPower = pd.DataFrame(outputValue, columns=['Actual Power'])\n",
    "actualPower = actualPower.reset_index(drop=True)\n",
    "df_actual_vs_predicted = pd.concat([actualPower,predictedPower],axis =1)\n",
    "df_actual_vs_predicted.to_csv(\"actual_vs_predicted.csv\", index=False)"
   ]
  },
  {
   "cell_type": "code",
   "execution_count": 16,
   "id": "5cf438c7",
   "metadata": {},
   "outputs": [],
   "source": [
    "with open('./panel_segmentation/models/power_estimation_model', 'wb') as files:\n",
    "    pickle.dump(ordinaryLeastSquaresModel, files)"
   ]
  },
  {
   "cell_type": "code",
   "execution_count": 59,
   "id": "bd43b63c",
   "metadata": {},
   "outputs": [
    {
     "data": {
      "text/plain": [
       "array([113.29482047])"
      ]
     },
     "execution_count": 59,
     "metadata": {},
     "output_type": "execute_result"
    }
   ],
   "source": [
    "with open('./panel_segmentation/models/power_estimation_model', 'rb') as f:\n",
    "    lr = pickle.load(f)\n",
    "    \n",
    "# Estimate power output for rooftop mount, multi-Si array with pixel count of 2500\n",
    "lr.predict([[2500, 1, 1]])"
   ]
  },
  {
   "cell_type": "code",
   "execution_count": 18,
   "id": "70289168",
   "metadata": {},
   "outputs": [
    {
     "name": "stdout",
     "output_type": "stream",
     "text": [
      "113.29482046569953\n"
     ]
    }
   ],
   "source": [
    "print(lr.predict([[2500, 1, 1]])[0])"
   ]
  },
  {
   "cell_type": "code",
   "execution_count": null,
   "id": "df5c697f",
   "metadata": {},
   "outputs": [],
   "source": []
  }
 ],
 "metadata": {
  "kernelspec": {
   "display_name": "Python 3 (ipykernel)",
   "language": "python",
   "name": "python3"
  },
  "language_info": {
   "codemirror_mode": {
    "name": "ipython",
    "version": 3
   },
   "file_extension": ".py",
   "mimetype": "text/x-python",
   "name": "python",
   "nbconvert_exporter": "python",
   "pygments_lexer": "ipython3",
   "version": "3.9.12"
  }
 },
 "nbformat": 4,
 "nbformat_minor": 5
}
