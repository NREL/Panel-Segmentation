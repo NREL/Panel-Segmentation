{
 "cells": [
  {
   "cell_type": "code",
   "execution_count": 25,
   "id": "375ed4bd",
   "metadata": {},
   "outputs": [],
   "source": [
    "import pandas as pd\n",
    "from panel_segmentation import panel_detection as pseg\n",
    "import numpy as np\n",
    "from tensorflow.keras.preprocessing import image as imagex\n",
    "import matplotlib.pyplot as plt\n",
    "import os\n",
    "from PIL import Image, ImageOps\n",
    "import cv2\n",
    "from skimage import color\n",
    "\n",
    "df = pd.read_csv(\"dataset_candidates_updated_copy.csv\")\n",
    "techDF = pd.read_csv(\"system_power_estimates_with_module_technology.csv\")\n",
    "linReg = pd.read_csv(\"linear_regression_dataset_078522.csv\")\n",
    "\n",
    "# Create empty dataframe\n",
    "finalDataset = pd.DataFrame(columns = ['pixel_count', 'mounting_configuration', 'power', 'technology_type'])"
   ]
  },
  {
   "cell_type": "code",
   "execution_count": 26,
   "id": "99a4c30d",
   "metadata": {},
   "outputs": [],
   "source": [
    "# Get all values in original dataset\n",
    "allSystemIds = df[\"system_id\"].to_list()\n",
    "new_df = techDF.loc[techDF['system_id'].isin(allSystemIds)]"
   ]
  },
  {
   "cell_type": "code",
   "execution_count": 27,
   "id": "ffa4b277",
   "metadata": {},
   "outputs": [],
   "source": [
    "fullDataset = df.merge(new_df[['system_id','module_technology', 'module_model']], on = 'system_id', how = 'left')"
   ]
  },
  {
   "cell_type": "code",
   "execution_count": 28,
   "id": "9e5fa740",
   "metadata": {},
   "outputs": [
    {
     "name": "stdout",
     "output_type": "stream",
     "text": [
      "   system_id                    name   latitude   longitude   power     type  \\\n",
      "0       5284     Alta Loma Banyan ES  34.141776 -117.565673  218.62  Parking   \n",
      "1       5285  Alta Loma Carnelian ES  34.124985 -117.615436  183.60  Parking   \n",
      "2       5286   Alta Loma Deer Canyon  34.130887 -117.581568  128.52  Parking   \n",
      "3       5288       Alta Loma Hermosa  34.149898 -117.583188  136.00  Parking   \n",
      "4       5289     Alta Loma Jasper ES  34.129808 -117.619506  193.46  Parking   \n",
      "\n",
      "   tracking  pixelCount  mounting module_technology   module_model  \n",
      "0     False         115         2           mono-Si  sw340 xl mono  \n",
      "1     False           0         2           mono-Si  sw340 xl mono  \n",
      "2     False         191         2           mono-Si  sw340 xl mono  \n",
      "3     False           5         2           mono-Si  sw340 xl mono  \n",
      "4     False          52         2           mono-Si  sw340 xl mono  \n"
     ]
    }
   ],
   "source": [
    "print(fullDataset.head())"
   ]
  },
  {
   "cell_type": "code",
   "execution_count": 30,
   "id": "8ca03dc8",
   "metadata": {},
   "outputs": [],
   "source": [
    "fullDataset.to_csv(\"final_dataset_078522.csv\", index=False)"
   ]
  },
  {
   "cell_type": "code",
   "execution_count": 31,
   "id": "91f6667c",
   "metadata": {},
   "outputs": [
    {
     "name": "stdout",
     "output_type": "stream",
     "text": [
      "[nan, 'multi-Si', 'mono-Si', 'Unknown', 'amorphous si', 'ribbon polycrystalline si', 'SJT', 'CdTe']\n"
     ]
    }
   ],
   "source": [
    "# Get all unique technology types\n",
    "allTechTypes = fullDataset[\"module_technology\"].to_list()\n",
    "allTechTypes = list(set(allTechTypes))\n",
    "print(allTechTypes)"
   ]
  },
  {
   "cell_type": "code",
   "execution_count": null,
   "id": "9aa63924",
   "metadata": {},
   "outputs": [],
   "source": []
  }
 ],
 "metadata": {
  "kernelspec": {
   "display_name": "Python 3 (ipykernel)",
   "language": "python",
   "name": "python3"
  },
  "language_info": {
   "codemirror_mode": {
    "name": "ipython",
    "version": 3
   },
   "file_extension": ".py",
   "mimetype": "text/x-python",
   "name": "python",
   "nbconvert_exporter": "python",
   "pygments_lexer": "ipython3",
   "version": "3.9.12"
  }
 },
 "nbformat": 4,
 "nbformat_minor": 5
}
