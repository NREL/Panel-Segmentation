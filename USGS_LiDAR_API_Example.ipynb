{
 "cells": [
  {
   "cell_type": "code",
   "execution_count": 1,
   "id": "9bcf972a",
   "metadata": {
    "scrolled": false
   },
   "outputs": [
    {
     "name": "stdout",
     "output_type": "stream",
     "text": [
      "Jupyter environment detected. Enabling Open3D WebVisualizer.\n",
      "[Open3D INFO] WebRTC GUI backend enabled.\n",
      "[Open3D INFO] WebRTCWindowSystem: HTTP handshake server disabled.\n"
     ]
    }
   ],
   "source": [
    "from panel_segmentation.lidar import usgs_lidar_api\n",
    "import pandas as pd\n",
    "import os"
   ]
  },
  {
   "cell_type": "markdown",
   "id": "cee40f5c",
   "metadata": {},
   "source": [
    "# USGS LiDAR API"
   ]
  },
  {
   "cell_type": "markdown",
   "id": "45a6d826",
   "metadata": {},
   "source": [
    "All USGS LiDAR dataset is pulled via a custom [USGS LiDAR API](./panel_segmentation/lidar/usgs_lidar_api.py) within the panel segmentation package. Using this API, the [master_usgs_lidar_dataset_names.parquet](./panel_segmentation/lidar/data/master_usgs_lidar_dataset_names.parquet) and [master_usgs_lidar_metadata.parquet](./panel_segmentation/lidar/data/master_usgs_lidar_metadata.parquet) are generated and saved in memory within the [data](./panel_segmentation/lidar/data/) folder. This api could also be used to locate and download the USGS LiDAR file that contains the requested latitude-longitude coordinate.\n"
   ]
  },
  {
   "cell_type": "markdown",
   "id": "11fc8020",
   "metadata": {},
   "source": [
    "## 1) Get Master LiDAR Dataset Names"
   ]
  },
  {
   "cell_type": "markdown",
   "id": "d9eb86f9",
   "metadata": {},
   "source": [
    "The master LiDAR Dataset Names has been pulled and saved to [master_usgs_lidar_dataset_names.parquet](./panel_segmentation/lidar/data/master_usgs_lidar_dataset_names.parquet). master_usgs_lidar_dataset_names.parquet contains all the LiDAR dataset project names found within the [USGS Projects page](https://rockyweb.usgs.gov/vdelivery/Datasets/Staged/Elevation/LPC/Projects/) on their online database. The parquet file contains columns \"dataset_name\" and \"deprecated_scans\", which flags whether the LiDAR data is an old, deprecated scan. \n",
    "\n",
    "getAllDataset() function in usgs_lidar_api can be used to repull all LiDAR dataset names in USGS. Please be advised that it may take a couple of hours to pull all the dataset names. Use the saved master_usgs_lidar_dataset_names.parquet instead and read in the parquet file as a dataframe by calling pd.read_parquet().\n",
    "\n",
    "For this notebook example, one dataset name will be used as an example for pulling the dataset names."
   ]
  },
  {
   "cell_type": "code",
   "execution_count": 2,
   "id": "6a5bd3d4",
   "metadata": {
    "scrolled": false
   },
   "outputs": [
    {
     "name": "stdout",
     "output_type": "stream",
     "text": [
      "Dataset found:  USGS_LPC_TX_Central_B1_2017_LAS_2019/\n"
     ]
    },
    {
     "data": {
      "text/html": [
       "<div>\n",
       "<style scoped>\n",
       "    .dataframe tbody tr th:only-of-type {\n",
       "        vertical-align: middle;\n",
       "    }\n",
       "\n",
       "    .dataframe tbody tr th {\n",
       "        vertical-align: top;\n",
       "    }\n",
       "\n",
       "    .dataframe thead th {\n",
       "        text-align: right;\n",
       "    }\n",
       "</style>\n",
       "<table border=\"1\" class=\"dataframe\">\n",
       "  <thead>\n",
       "    <tr style=\"text-align: right;\">\n",
       "      <th></th>\n",
       "      <th>dataset_name</th>\n",
       "      <th>deprecated_scans</th>\n",
       "    </tr>\n",
       "  </thead>\n",
       "  <tbody>\n",
       "    <tr>\n",
       "      <th>0</th>\n",
       "      <td>USGS_LPC_TX_Central_B1_2017_LAS_2019/</td>\n",
       "      <td>False</td>\n",
       "    </tr>\n",
       "  </tbody>\n",
       "</table>\n",
       "</div>"
      ],
      "text/plain": [
       "                            dataset_name  deprecated_scans\n",
       "0  USGS_LPC_TX_Central_B1_2017_LAS_2019/             False"
      ]
     },
     "execution_count": 2,
     "metadata": {},
     "output_type": "execute_result"
    }
   ],
   "source": [
    "# Point to output folder where results are saved\n",
    "example_output_folder = (\"./panel_segmentation/examples/lidar_api_examples\")\n",
    "# Initialize the USGSLidarAPI class\n",
    "lidar_api = usgs_lidar_api.USGSLidarAPI(example_output_folder)\n",
    "\n",
    "# Base url of the USGS Projects website\n",
    "base_dataset_url = \"https://rockyweb.usgs.gov/vdelivery/Datasets/Staged/Elevation/LPC/Projects/\"\n",
    "# url path of where the dataset is located\n",
    "example_current_path = \"USGS_LPC_TX_Central_B1_2017_LAS_2019/\"\n",
    "# Get the dataset name for the base url with the example path\n",
    "dataset_dict, _ = lidar_api.getOneDataset(\n",
    "    current_url = os.path.join(base_dataset_url, example_current_path),\n",
    "    current_path = example_current_path)\n",
    "dataset_df = pd.DataFrame([dataset_dict])\n",
    "dataset_df.head(10)"
   ]
  },
  {
   "cell_type": "markdown",
   "id": "796ee1be",
   "metadata": {},
   "source": [
    "## 2) Get Metadata from Dataset Names"
   ]
  },
  {
   "cell_type": "markdown",
   "id": "0b0948d0",
   "metadata": {},
   "source": [
    "The master metadata for all LiDAR dataset has been pulled and saved to [master_usgs_lidar_metadata.parquet](./panel_segmentation/lidar/data/master_usgs_lidar_metadata.parquet). master_usgs_lidar_metadata.parquet contains the metadata information associated with each .laz file, including its download link and scan boundaries pulled for the dataset names in master_usgs_lidar_dataset_names.parquet. It has columns \"dataset_name\", \"xml_link\", \"laz_link\", \"bbox_west\", \"bbox_east\", \"bbox_north\", \"bbox_south\", \"start_scan_date\", and \"end_scan_date\" columns. These metadata information are pulled from an xml file located in the subfolder of the dataset.\n",
    "\n",
    "Please be advised that it may take a couple of hours to pull the metadata for all the dataset names. Use the saved master master_usgs_lidar_metadata.parquet instead and read in the parquet file as a dataframe by calling pd.read_parquet(). \n",
    "\n",
    "For this notebook example, the example dataset name pulled from the previous cell will be used to show the resultant metadata output."
   ]
  },
  {
   "cell_type": "code",
   "execution_count": 3,
   "id": "357d39a3",
   "metadata": {
    "scrolled": false
   },
   "outputs": [
    {
     "data": {
      "text/html": [
       "<div>\n",
       "<style scoped>\n",
       "    .dataframe tbody tr th:only-of-type {\n",
       "        vertical-align: middle;\n",
       "    }\n",
       "\n",
       "    .dataframe tbody tr th {\n",
       "        vertical-align: top;\n",
       "    }\n",
       "\n",
       "    .dataframe thead th {\n",
       "        text-align: right;\n",
       "    }\n",
       "</style>\n",
       "<table border=\"1\" class=\"dataframe\">\n",
       "  <thead>\n",
       "    <tr style=\"text-align: right;\">\n",
       "      <th></th>\n",
       "      <th>dataset_name</th>\n",
       "      <th>xml_link</th>\n",
       "      <th>laz_link</th>\n",
       "      <th>bbox_west</th>\n",
       "      <th>bbox_east</th>\n",
       "      <th>bbox_north</th>\n",
       "      <th>bbox_south</th>\n",
       "      <th>scan_start_date</th>\n",
       "      <th>scan_end_date</th>\n",
       "    </tr>\n",
       "  </thead>\n",
       "  <tbody>\n",
       "    <tr>\n",
       "      <th>0</th>\n",
       "      <td>USGS Lidar Point Cloud TX Central B1 2017 stra...</td>\n",
       "      <td>https://rockyweb.usgs.gov/vdelivery/Datasets/S...</td>\n",
       "      <td>https://rockyweb.usgs.gov/vdelivery/Datasets/S...</td>\n",
       "      <td>-97.000314</td>\n",
       "      <td>-96.984059</td>\n",
       "      <td>30.000277</td>\n",
       "      <td>29.984160</td>\n",
       "      <td>2017/01/28</td>\n",
       "      <td>2017/03/22</td>\n",
       "    </tr>\n",
       "    <tr>\n",
       "      <th>1</th>\n",
       "      <td>USGS Lidar Point Cloud TX Central B1 2017 stra...</td>\n",
       "      <td>https://rockyweb.usgs.gov/vdelivery/Datasets/S...</td>\n",
       "      <td>https://rockyweb.usgs.gov/vdelivery/Datasets/S...</td>\n",
       "      <td>-96.984687</td>\n",
       "      <td>-96.968430</td>\n",
       "      <td>30.000219</td>\n",
       "      <td>29.984101</td>\n",
       "      <td>2017/01/28</td>\n",
       "      <td>2017/03/22</td>\n",
       "    </tr>\n",
       "    <tr>\n",
       "      <th>2</th>\n",
       "      <td>USGS Lidar Point Cloud TX Central B1 2017 stra...</td>\n",
       "      <td>https://rockyweb.usgs.gov/vdelivery/Datasets/S...</td>\n",
       "      <td>https://rockyweb.usgs.gov/vdelivery/Datasets/S...</td>\n",
       "      <td>-97.000316</td>\n",
       "      <td>-96.984065</td>\n",
       "      <td>29.984579</td>\n",
       "      <td>29.968553</td>\n",
       "      <td>2017/01/28</td>\n",
       "      <td>2017/03/22</td>\n",
       "    </tr>\n",
       "    <tr>\n",
       "      <th>3</th>\n",
       "      <td>USGS Lidar Point Cloud TX Central B1 2017 stra...</td>\n",
       "      <td>https://rockyweb.usgs.gov/vdelivery/Datasets/S...</td>\n",
       "      <td>https://rockyweb.usgs.gov/vdelivery/Datasets/S...</td>\n",
       "      <td>-96.984691</td>\n",
       "      <td>-96.968437</td>\n",
       "      <td>29.984611</td>\n",
       "      <td>29.968493</td>\n",
       "      <td>2017/01/28</td>\n",
       "      <td>2017/03/22</td>\n",
       "    </tr>\n",
       "    <tr>\n",
       "      <th>4</th>\n",
       "      <td>USGS Lidar Point Cloud TX Central B1 2017 stra...</td>\n",
       "      <td>https://rockyweb.usgs.gov/vdelivery/Datasets/S...</td>\n",
       "      <td>https://rockyweb.usgs.gov/vdelivery/Datasets/S...</td>\n",
       "      <td>-96.969069</td>\n",
       "      <td>-96.952809</td>\n",
       "      <td>30.000249</td>\n",
       "      <td>29.984129</td>\n",
       "      <td>2017/01/28</td>\n",
       "      <td>2017/03/22</td>\n",
       "    </tr>\n",
       "    <tr>\n",
       "      <th>5</th>\n",
       "      <td>USGS Lidar Point Cloud TX Central B1 2017 stra...</td>\n",
       "      <td>https://rockyweb.usgs.gov/vdelivery/Datasets/S...</td>\n",
       "      <td>https://rockyweb.usgs.gov/vdelivery/Datasets/S...</td>\n",
       "      <td>-96.953440</td>\n",
       "      <td>-96.937178</td>\n",
       "      <td>30.000278</td>\n",
       "      <td>29.984156</td>\n",
       "      <td>2017/01/28</td>\n",
       "      <td>2017/03/22</td>\n",
       "    </tr>\n",
       "    <tr>\n",
       "      <th>6</th>\n",
       "      <td>USGS Lidar Point Cloud TX Central B1 2017 stra...</td>\n",
       "      <td>https://rockyweb.usgs.gov/vdelivery/Datasets/S...</td>\n",
       "      <td>https://rockyweb.usgs.gov/vdelivery/Datasets/S...</td>\n",
       "      <td>-96.969065</td>\n",
       "      <td>-96.952808</td>\n",
       "      <td>29.984642</td>\n",
       "      <td>29.968522</td>\n",
       "      <td>2017/01/28</td>\n",
       "      <td>2017/03/22</td>\n",
       "    </tr>\n",
       "    <tr>\n",
       "      <th>7</th>\n",
       "      <td>USGS Lidar Point Cloud TX Central B1 2017 stra...</td>\n",
       "      <td>https://rockyweb.usgs.gov/vdelivery/Datasets/S...</td>\n",
       "      <td>https://rockyweb.usgs.gov/vdelivery/Datasets/S...</td>\n",
       "      <td>-96.953439</td>\n",
       "      <td>-96.937181</td>\n",
       "      <td>29.984580</td>\n",
       "      <td>29.968549</td>\n",
       "      <td>2017/01/28</td>\n",
       "      <td>2017/03/22</td>\n",
       "    </tr>\n",
       "    <tr>\n",
       "      <th>8</th>\n",
       "      <td>USGS Lidar Point Cloud TX Central B1 2017 stra...</td>\n",
       "      <td>https://rockyweb.usgs.gov/vdelivery/Datasets/S...</td>\n",
       "      <td>https://rockyweb.usgs.gov/vdelivery/Datasets/S...</td>\n",
       "      <td>-97.000309</td>\n",
       "      <td>-96.984059</td>\n",
       "      <td>29.968971</td>\n",
       "      <td>29.952855</td>\n",
       "      <td>2017/01/28</td>\n",
       "      <td>2017/03/22</td>\n",
       "    </tr>\n",
       "    <tr>\n",
       "      <th>9</th>\n",
       "      <td>USGS Lidar Point Cloud TX Central B1 2017 stra...</td>\n",
       "      <td>https://rockyweb.usgs.gov/vdelivery/Datasets/S...</td>\n",
       "      <td>https://rockyweb.usgs.gov/vdelivery/Datasets/S...</td>\n",
       "      <td>-96.984685</td>\n",
       "      <td>-96.968433</td>\n",
       "      <td>29.969003</td>\n",
       "      <td>29.952885</td>\n",
       "      <td>2017/01/28</td>\n",
       "      <td>2017/03/22</td>\n",
       "    </tr>\n",
       "  </tbody>\n",
       "</table>\n",
       "</div>"
      ],
      "text/plain": [
       "                                        dataset_name  \\\n",
       "0  USGS Lidar Point Cloud TX Central B1 2017 stra...   \n",
       "1  USGS Lidar Point Cloud TX Central B1 2017 stra...   \n",
       "2  USGS Lidar Point Cloud TX Central B1 2017 stra...   \n",
       "3  USGS Lidar Point Cloud TX Central B1 2017 stra...   \n",
       "4  USGS Lidar Point Cloud TX Central B1 2017 stra...   \n",
       "5  USGS Lidar Point Cloud TX Central B1 2017 stra...   \n",
       "6  USGS Lidar Point Cloud TX Central B1 2017 stra...   \n",
       "7  USGS Lidar Point Cloud TX Central B1 2017 stra...   \n",
       "8  USGS Lidar Point Cloud TX Central B1 2017 stra...   \n",
       "9  USGS Lidar Point Cloud TX Central B1 2017 stra...   \n",
       "\n",
       "                                            xml_link  \\\n",
       "0  https://rockyweb.usgs.gov/vdelivery/Datasets/S...   \n",
       "1  https://rockyweb.usgs.gov/vdelivery/Datasets/S...   \n",
       "2  https://rockyweb.usgs.gov/vdelivery/Datasets/S...   \n",
       "3  https://rockyweb.usgs.gov/vdelivery/Datasets/S...   \n",
       "4  https://rockyweb.usgs.gov/vdelivery/Datasets/S...   \n",
       "5  https://rockyweb.usgs.gov/vdelivery/Datasets/S...   \n",
       "6  https://rockyweb.usgs.gov/vdelivery/Datasets/S...   \n",
       "7  https://rockyweb.usgs.gov/vdelivery/Datasets/S...   \n",
       "8  https://rockyweb.usgs.gov/vdelivery/Datasets/S...   \n",
       "9  https://rockyweb.usgs.gov/vdelivery/Datasets/S...   \n",
       "\n",
       "                                            laz_link  bbox_west  bbox_east  \\\n",
       "0  https://rockyweb.usgs.gov/vdelivery/Datasets/S... -97.000314 -96.984059   \n",
       "1  https://rockyweb.usgs.gov/vdelivery/Datasets/S... -96.984687 -96.968430   \n",
       "2  https://rockyweb.usgs.gov/vdelivery/Datasets/S... -97.000316 -96.984065   \n",
       "3  https://rockyweb.usgs.gov/vdelivery/Datasets/S... -96.984691 -96.968437   \n",
       "4  https://rockyweb.usgs.gov/vdelivery/Datasets/S... -96.969069 -96.952809   \n",
       "5  https://rockyweb.usgs.gov/vdelivery/Datasets/S... -96.953440 -96.937178   \n",
       "6  https://rockyweb.usgs.gov/vdelivery/Datasets/S... -96.969065 -96.952808   \n",
       "7  https://rockyweb.usgs.gov/vdelivery/Datasets/S... -96.953439 -96.937181   \n",
       "8  https://rockyweb.usgs.gov/vdelivery/Datasets/S... -97.000309 -96.984059   \n",
       "9  https://rockyweb.usgs.gov/vdelivery/Datasets/S... -96.984685 -96.968433   \n",
       "\n",
       "   bbox_north  bbox_south scan_start_date scan_end_date  \n",
       "0   30.000277   29.984160      2017/01/28    2017/03/22  \n",
       "1   30.000219   29.984101      2017/01/28    2017/03/22  \n",
       "2   29.984579   29.968553      2017/01/28    2017/03/22  \n",
       "3   29.984611   29.968493      2017/01/28    2017/03/22  \n",
       "4   30.000249   29.984129      2017/01/28    2017/03/22  \n",
       "5   30.000278   29.984156      2017/01/28    2017/03/22  \n",
       "6   29.984642   29.968522      2017/01/28    2017/03/22  \n",
       "7   29.984580   29.968549      2017/01/28    2017/03/22  \n",
       "8   29.968971   29.952855      2017/01/28    2017/03/22  \n",
       "9   29.969003   29.952885      2017/01/28    2017/03/22  "
      ]
     },
     "execution_count": 3,
     "metadata": {},
     "output_type": "execute_result"
    }
   ],
   "source": [
    "# Get dataset name\n",
    "dataset_name = dataset_df[\"dataset_name\"].iloc[0]\n",
    "# Get metadata information from xml files under the dataset name\n",
    "metadata_df = lidar_api.getAllXmlMetadata(dataset_name,\n",
    "                                         log_output=False)\n",
    "metadata_df.head(10)"
   ]
  },
  {
   "cell_type": "markdown",
   "id": "fbe3fa05",
   "metadata": {},
   "source": [
    "## 3) Locate the .laz File for a Latitude, Longitude Coordinate"
   ]
  },
  {
   "cell_type": "markdown",
   "id": "a66cab99",
   "metadata": {},
   "source": [
    "Using master_usgs_lidar_metadata.parquet, we can get the latest .laz file associated with a latitude, longitude coordinate. This is done by checking if the coordinate is within the scan boundaries of the LiDAR file. If multiple LiDAR files are found, the most recent .laz file is selected. If no LiDAR files are found, then running the LiDAR pipeline to get tilt and azimuth cannot be done. This process is already written in the locateLazFileByLatLon() function in the usgs_lidar_api script. To execute the function, read in the master_usgs_lidar_metadata.parquet file as a Pandas dataframe and provide a latitude, longitude coordinate within the polygon. This function locates the downloadable URL and downloads the .laz file in lidar_laz folder located in the output folder used in the initialization of the class. \n",
    "\n",
    "For this notebook example, a latitude, longitude coordinate contained within the example dataset will be used. The metadata dataframe is also the Pandas dataframe generated from the example dataset in the previous cell. This metadata dataframe contains the metadata information like the bounding box and a file download link of the scan."
   ]
  },
  {
   "cell_type": "code",
   "execution_count": 4,
   "id": "970fc588",
   "metadata": {},
   "outputs": [
    {
     "name": "stdout",
     "output_type": "stream",
     "text": [
      "USGS_LPC_TX_Central_B1_2017_stratmap17_50cm_3097513c1_LAS_2019.laz already downloaded.\n",
      "Download link:  https://rockyweb.usgs.gov/vdelivery/Datasets/Staged/Elevation/LPC/Projects/USGS_LPC_TX_Central_B1_2017_LAS_2019/laz/USGS_LPC_TX_Central_B1_2017_stratmap17_50cm_3097513c1_LAS_2019.laz\n",
      "Local File Path:  ./panel_segmentation/examples/lidar_api_examples\\lidar_laz\\USGS_LPC_TX_Central_B1_2017_stratmap17_50cm_3097513c1_LAS_2019.laz\n"
     ]
    }
   ],
   "source": [
    "# A latitude, longitude coordinate within the dataset\n",
    "lat, lon = 30.147832489721004, -97.74102015878317\n",
    "# Locate the .laz file\n",
    "laz_download_link = lidar_api.locateLazFileByLatLon(metadata_df, lat, lon)\n",
    "# Download the .laz file\n",
    "laz_file_path = lidar_api.downloadLazFile(laz_download_link)\n",
    "print(\"Download link: \", laz_download_link)\n",
    "print(\"Local File Path: \", laz_file_path)"
   ]
  }
 ],
 "metadata": {
  "kernelspec": {
   "display_name": "lidar_venv3",
   "language": "python",
   "name": "lidar_venv3"
  },
  "language_info": {
   "codemirror_mode": {
    "name": "ipython",
    "version": 3
   },
   "file_extension": ".py",
   "mimetype": "text/x-python",
   "name": "python",
   "nbconvert_exporter": "python",
   "pygments_lexer": "ipython3",
   "version": "3.11.5"
  }
 },
 "nbformat": 4,
 "nbformat_minor": 5
}
